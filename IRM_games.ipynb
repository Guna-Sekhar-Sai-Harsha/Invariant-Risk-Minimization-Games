{
  "cells": [
    {
      "cell_type": "markdown",
      "metadata": {
        "id": "UR5NgILp5R7y"
      },
      "source": [
        "## Overview\n",
        "The experiments are based on the works (Ahuja et.al. https://arxiv.org/pdf/2002.04692.pdf) and (Arjosvsky et.al. https://arxiv.org/pdf/1907.02893.pdf). \n",
        "\n",
        "\n",
        "1. In the first half of the notebook, we examine F-IRM game and V-IRM game (from Ahuja et.al.) for various different settings, e.g., different datasets, different number of environments, using different architectures MLP and CNN\n",
        "2. In the latter half of the notebook, we examine IRM (Arjovsky et.al.) and standard empirical risk minimization (ERM). \n",
        "\n"
      ]
    },
    {
      "cell_type": "markdown",
      "metadata": {
        "id": "zj7Tkb9L5R78"
      },
      "source": [
        "# Import external libraries"
      ]
    },
    {
      "cell_type": "code",
      "source": [
        "import tensorflow as tf\n",
        "import numpy as np\n",
        "import argparse\n",
        "import IPython.display as display\n",
        "import matplotlib.pyplot as plt\n",
        "from tensorflow import keras\n",
        "from sklearn.model_selection import train_test_split\n",
        "from sklearn.preprocessing import OneHotEncoder\n",
        "from sklearn.utils import shuffle\n",
        "import pandas as pd\n",
        "import tensorflow as tf\n",
        "tf.compat.v1.enable_eager_execution()\n",
        "# import cProfile\n",
        "import copy as cp\n",
        "from sklearn.model_selection import KFold\n"
      ],
      "metadata": {
        "id": "XNItTKBs6ARZ"
      },
      "execution_count": null,
      "outputs": []
    },
    {
      "cell_type": "markdown",
      "metadata": {
        "id": "vYOczE-t5R74"
      },
      "source": [
        "# Data_constructor \n",
        "The datasets used in this project essentially modified standard datasets such as MNIST digits, fashion MNIST to create multiple environments with different degrees of spurious correlations and the labels. Here we describe the classes that allow to create these datasets.\n",
        "\n",
        "    1. data_constructor consists of two classes: assemble_data_mnist() and assemble_data_mnist_fashion() \n",
        "        a) assemble_data_mnist()/assemble_data_mnist_fashion() has following functions \n",
        "            i) create_training_data(n_e, p_color_list, p_label_list):\n",
        "                n_e: number of environments, \n",
        "                p_color_list: list of probabilities of switching the final label to obtain the color index, \n",
        "                p_label_list: list of probabilities of switching pre-label\n",
        "            ii) create_testing_data(p_color_test, p_label_test, n_e): \n",
        "                n_e: number of environments, \n",
        "                p_color_test: probability of switching the final label to obtain the color index in test environment, \n",
        "                p_label_test: probability of switching pre-label in test environment\n",
        "        b)  assemble_data_mnist()/assemble_data_mnist_fashion() following attributes:\n",
        "            i) data_tuple_list: list of length n_e, each element of the list is a tuple with three elements (data, label, environment index)\n",
        "            ii) data_tuple_test: tuple with three elements (data_test, label_test, test environment index)\n",
        "    "
      ]
    },
    {
      "cell_type": "markdown",
      "source": [
        "MINST Fashion"
      ],
      "metadata": {
        "id": "BxOnmyU859vk"
      }
    },
    {
      "cell_type": "code",
      "source": [
        "class assemble_data_mnist_fashion:\n",
        "    def __init__(self):\n",
        "\n",
        "        fashion_mnist = keras.datasets.fashion_mnist ## Load fashion MNIST data\n",
        "        (train_images, train_labels), (test_images, test_labels) = fashion_mnist.load_data()\n",
        "\n",
        "        ## Prepare the data with labels (footwear or a clothing item, drop label 8 as it is a bag)\n",
        "        sub_labels_train = np.where(train_labels!=8)\n",
        "        train_images_new = train_images[sub_labels_train]\n",
        "        train_labels_new = train_labels[sub_labels_train]\n",
        "\n",
        "        sub_labels_test = np.where(test_labels!=8)\n",
        "        test_images_new = test_images[sub_labels_test]\n",
        "        test_labels_new = test_labels[sub_labels_test]\n",
        "\n",
        "\n",
        "        train_labels_binary  = np.zeros_like(train_labels_new)\n",
        "        test_labels_binary  = np.zeros_like(test_labels_new)\n",
        "        train_labels_binary[np.where(train_labels_new==5)] = 1\n",
        "        train_labels_binary[np.where(train_labels_new==7)] = 1\n",
        "        train_labels_binary[np.where(train_labels_new==9)] = 1\n",
        "        test_labels_binary[np.where(test_labels_new==5)] = 1\n",
        "        test_labels_binary[np.where(test_labels_new==7)] = 1\n",
        "        test_labels_binary[np.where(test_labels_new==9)] = 1\n",
        "\n",
        "        x_train_fashion_mnist = train_images_new\n",
        "        x_test_fashion_mnist  = test_images_new\n",
        "        y_train_fashion_mnist = train_labels_binary\n",
        "        y_test_fashion_mnist  = test_labels_binary\n",
        "\n",
        "        ## convert data into float b/w 0-1\n",
        "        x_train_fashion_mnist=x_train_fashion_mnist.astype('float32')/float(255)\n",
        "        x_test_fashion_mnist=x_test_fashion_mnist.astype('float32')/float(255)\n",
        "\n",
        "        num_train = x_train_fashion_mnist.shape[0]\n",
        "        x_train_fashion_mnist = x_train_fashion_mnist.reshape((num_train,28,28,1))\n",
        "        y_train_fashion_mnist = y_train_fashion_mnist.reshape((num_train,1))\n",
        "                \n",
        "        num_test = x_test_fashion_mnist.shape[0]\n",
        "        x_test_fashion_mnist = x_test_fashion_mnist.reshape((num_test,28,28,1))\n",
        "        y_test_fashion_mnist = y_test_fashion_mnist.reshape((num_test,1))\n",
        "        \n",
        "        self.x_train_fashion_mnist = x_train_fashion_mnist\n",
        "        self.y_train_fashion_mnist = y_train_fashion_mnist\n",
        "\n",
        "        self.x_test_fashion_mnist = x_test_fashion_mnist\n",
        "        self.y_test_fashion_mnist = y_test_fashion_mnist \n",
        "        \n",
        "    def create_environment(self,env_index,x,y,prob_e,prob_label):\n",
        "        y = y.astype(int)\n",
        "        num_samples=len(y)   \n",
        "        y_mod=np.abs(y-np.random.binomial(1,prob_label,(num_samples,1)))\n",
        "        z=np.abs(y_mod-np.random.binomial(1,prob_e,(num_samples,1)))\n",
        "        red = np.where(z==1)[0]\n",
        "        tsh = 0.5\n",
        "        chR = cp.deepcopy(x[red,:])\n",
        "        chR[chR > tsh] = 1\n",
        "        chG = cp.deepcopy(x[red,:])\n",
        "        chG[chG > tsh] = 0\n",
        "        chB = cp.deepcopy(x[red,:])\n",
        "        chB[chB > tsh] = 0\n",
        "        r = np.concatenate((chR, chG), axis=3)\n",
        "        green= np.where(z==0)[0]\n",
        "        tsh= 0.5\n",
        "        chR1= cp.deepcopy(x[green,:])\n",
        "        chR1[chR1 > tsh] = 0\n",
        "        chG1= cp.deepcopy(x[green,:])\n",
        "        chG1[chG1 > tsh] = 1\n",
        "        chB1= cp.deepcopy(x[green,:])\n",
        "        chB1[chB1 > tsh] = 0\n",
        "        g= np.concatenate((chR1, chG1), axis=3)\n",
        "        dataset=np.concatenate((r,g),axis=0)\n",
        "        labels=np.concatenate((y_mod[red,:],y_mod[green,:]),axis=0)\n",
        "        return (dataset,labels,np.ones((num_samples,1))*env_index)\n",
        "    \n",
        "    def create_training_data(self, n_e, corr_list, p_label_list):\n",
        "        x_train_fashion_mnist = self.x_train_fashion_mnist\n",
        "        y_train_fashion_mnist = self.y_train_fashion_mnist\n",
        "        ind_X = range(0,54000)\n",
        "        kf = KFold(n_splits=n_e, shuffle=True)\n",
        "        l=0\n",
        "        ind_list =[]\n",
        "        for train, test in kf.split(ind_X):\n",
        "            ind_list.append(test)\n",
        "            l=l+1   \n",
        "        data_tuple_list = []\n",
        "        for l in range(n_e):\n",
        "            data_tuple_list.append(self.create_environment(l,x_train_fashion_mnist[ind_list[l],:,:,:],y_train_fashion_mnist[ind_list[l],:],corr_list[l],p_label_list[l]))\n",
        "            \n",
        "        self.data_tuple_list = data_tuple_list\n",
        "        \n",
        "    \n",
        "    def create_testing_data(self, corr_test, prob_label, n_e):\n",
        "        x_test_fashion_mnist = self.x_test_fashion_mnist\n",
        "        y_test_fashion_mnist = self.y_test_fashion_mnist        \n",
        "        (x_test,y_test,e_test)=self.create_environment(n_e,x_test_fashion_mnist,y_test_fashion_mnist,corr_test,prob_label)\n",
        "\n",
        "        self.data_tuple_test = (x_test,y_test, e_test)\n",
        "\n",
        "        \n",
        "        \n",
        "\n",
        "\n"
      ],
      "metadata": {
        "id": "1IwBnx5k53JA"
      },
      "execution_count": null,
      "outputs": []
    },
    {
      "cell_type": "markdown",
      "source": [
        "MINST"
      ],
      "metadata": {
        "id": "Q0VUJ9fi8aMF"
      }
    },
    {
      "cell_type": "code",
      "source": [
        "class assemble_data_mnist:\n",
        "    def __init__(self):\n",
        "        D=tf.keras.datasets.mnist.load_data()\n",
        "        x_train=D[0][0].astype(float)\n",
        "        #y_train=OneHotEncoder.fit_transform(y_train)\n",
        "        x_test=D[1][0].astype(float)\n",
        "        #y_test=OneHotEncoder.fit_transform(y_train)\n",
        "        num_train=x_train.shape[0]\n",
        "        self.x_train_mnist=x_train.reshape((num_train,28,28,1))\n",
        "        self.y_train_mnist=D[0][1].reshape((num_train,1))\n",
        "        num_test=x_test.shape[0]\n",
        "        self.x_test_mnist=x_test.reshape((num_test,28,28,1))\n",
        "        self.y_test_mnist=D[1][1].reshape((num_test,1))\n",
        "\n",
        "    def create_environment(self,env_index,x,y,prob_e,prob_label):\n",
        "        #Convert y>5 to 1 and y<5 to 0.\n",
        "        y= (y>=5).astype(int)\n",
        "        num_samples=len(y)\n",
        "        y_mod=np.abs(y-np.random.binomial(1,prob_label,(num_samples,1)))\n",
        "        z=np.abs(y_mod-np.random.binomial(1,prob_e,(num_samples,1)))\n",
        "\n",
        "        red = np.where(z==1)[0]\n",
        "        tsh = 0.5\n",
        "        chR = cp.deepcopy(x[red,:])\n",
        "        chR[chR > tsh] = 1\n",
        "        chG = cp.deepcopy(x[red,:])\n",
        "        chG[chG > tsh] = 0\n",
        "        chB = cp.deepcopy(x[red,:])\n",
        "        chB[chB > tsh] = 0\n",
        "        r = np.concatenate((chR, chG), axis=3)\n",
        "\n",
        "        green= np.where(z==0)[0]\n",
        "        tsh= 0.5\n",
        "        chR1= cp.deepcopy(x[green,:])\n",
        "        chR1[chR1 > tsh] = 0\n",
        "        chG1= cp.deepcopy(x[green,:])\n",
        "        chG1[chG1 > tsh] = 1\n",
        "        chB1= cp.deepcopy(x[green,:])\n",
        "        chB1[chB1 > tsh] = 0\n",
        "        g= np.concatenate((chR1, chG1), axis=3)\n",
        "\n",
        "        dataset=np.concatenate((r,g),axis=0)\n",
        "        labels=np.concatenate((y_mod[red,:],y_mod[green,:]),axis=0)\n",
        "\n",
        "        return (dataset,labels,np.ones((num_samples,1))*env_index)\n",
        "    \n",
        "    def create_training_data(self, n_e, corr_list, p_label_list):\n",
        "            x_train_mnist = self.x_train_mnist\n",
        "            y_train_mnist = self.y_train_mnist\n",
        "            ind_X = range(0,60000)\n",
        "            kf = KFold(n_splits=n_e, shuffle=True)\n",
        "            l=0\n",
        "            ind_list =[]\n",
        "            for train, test in kf.split(ind_X):\n",
        "                ind_list.append(test)\n",
        "                l=l+1   \n",
        "            data_tuple_list = []\n",
        "            for l in range(n_e):\n",
        "                data_tuple_list.append(self.create_environment(l,x_train_mnist[ind_list[l],:,:,:],y_train_mnist[ind_list[l],:],corr_list[l],p_label_list[l]))\n",
        "\n",
        "            self.data_tuple_list = data_tuple_list\n",
        "            \n",
        "    def create_testing_data(self, corr_test, prob_label, n_e):\n",
        "        x_test_mnist = self.x_test_mnist\n",
        "        y_test_mnist = self.y_test_mnist        \n",
        "        (x_test,y_test,e_test)=self.create_environment(n_e,x_test_mnist,y_test_mnist,corr_test\n",
        ",prob_label)\n",
        "\n",
        "        self.data_tuple_test = (x_test,y_test, e_test)"
      ],
      "metadata": {
        "id": "mtWJGGK_6KbV"
      },
      "execution_count": null,
      "outputs": []
    },
    {
      "cell_type": "markdown",
      "source": [
        "# IRM_methods"
      ],
      "metadata": {
        "id": "X4MVUg7kAXRM"
      }
    },
    {
      "cell_type": "markdown",
      "metadata": {
        "id": "m_p1xo035R76"
      },
      "source": [
        "##    1. Fixed_irm_game_model class. Implements fixed-IRM game from Ahuja et.al.\n",
        "    \n",
        "        A) Initialization:\n",
        "        fixed_irm_game_model(model_list, learning_rate, num_epochs, batch_size, termination_acc, warm_start)\n",
        "           i) model_list: list of models for each environment; use keras to construct the architectures\n",
        "           ii) learning_rate: learning rate for Adam optimizer for training the models for each environment\n",
        "           iii) batch_size: size of the batch used for each gradient update\n",
        "            iv) num_epochs: number of epochs is number of training steps = number of training samples//batch size (each epoch is one full pass of the training data)\n",
        "            v) termination_acc: once the model accuracy falls below this threshold we terminate training\n",
        "           vi) warm_start: minimum number of steps before we terminate due to accuracy falling below threshold\n",
        "\n",
        "        B) Methods:\n",
        "            i) fit(data_tuple_list): takes data_tuple_list and trains the models\n",
        "                   data_tuple_list- list of length n_e, each element of the list is a tuple with three elements (data, label, environment index)     \n",
        "            ii) evaluate(data_tuple_test): tuple with three elements (data_test, label_test, test environment index)\n",
        "\n",
        "        C) Attributes:\n",
        "            i) model_list: list of models for each environment\n",
        "            ii) train_acc: training accuracy (use after running evaluate method)\n",
        "            iii) test_acc: testing accuracy  (use after running evaluate method) \n",
        "\n",
        "     \n",
        "\n"
      ]
    },
    {
      "cell_type": "code",
      "source": [
        "class fixed_irm_game_model:\n",
        "    def __init__(self, model_list, learning_rate, num_epochs, batch_size, termination_acc, warm_start):\n",
        "        \n",
        "        self.model_list        = model_list             # list of models for all the environments\n",
        "        self.num_epochs        = num_epochs             # number of epochs \n",
        "        self.batch_size        = batch_size             # batch size for each gradient update\n",
        "        self.termination_acc   = termination_acc        # threshold on accuracy below which we terminating \n",
        "        self.warm_start        = warm_start             # minimum number of steps we have to train before terminating due to accuracy falling below threshold\n",
        "        self.learning_rate     = learning_rate          # learning rate in adam\n",
        "    \n",
        "    def fit(self, data_tuple_list):\n",
        "        n_e  = len(data_tuple_list)                     # number of environments\n",
        "        # combine the data from the different environments x_in: combined data from environments, y_in: combined labels from environments, e_in: combined environment indices from environments\n",
        "        x_in = data_tuple_list[0][0]\n",
        "        for i in range(1,n_e):\n",
        "            x_c = data_tuple_list[i][0]\n",
        "            x_in = np.concatenate((x_in, x_c), axis=0)\n",
        "        y_in = data_tuple_list[0][1]\n",
        "        for i in range(1,n_e):\n",
        "            y_c = data_tuple_list[i][1]\n",
        "            y_in = np.concatenate((y_in, y_c), axis=0)\n",
        "        e_in = data_tuple_list[0][2]\n",
        "        for i in range(1,n_e):\n",
        "            e_c = data_tuple_list[i][2]\n",
        "            e_in = np.concatenate((e_in, e_c), axis=0) \n",
        "            \n",
        "        # cross entropy loss\n",
        "        def loss_comb(model_list, x, y):\n",
        "            loss_object = tf.keras.losses.SparseCategoricalCrossentropy(from_logits=True)\n",
        "            n_e = len(model_list)\n",
        "            y_ = tf.zeros_like(y, dtype=tf.float32)\n",
        "            # predict the model output from the ensemble\n",
        "            for i in range(n_e):\n",
        "                model_i = model_list[i]\n",
        "                y_ = y_ + 0.5*model_i(x)\n",
        "\n",
        "            return loss_object(y_true=y, y_pred=y_)\n",
        "        # gradient of cross entropy loss for environment e\n",
        "        def grad_comb(model_list, inputs, targets, e):\n",
        "            with tf.GradientTape() as tape:\n",
        "                loss_value = loss_comb(model_list, inputs, targets)\n",
        "            return loss_value, tape.gradient(loss_value, model_list[e].trainable_variables)\n",
        "\n",
        "\n",
        "\n",
        "    \n",
        "        model_list = self.model_list\n",
        "        learning_rate = self.learning_rate\n",
        "\n",
        "\n",
        "        # initialize optimizer for all the environments and representation learner and store it in a list\n",
        "        optimizer_list = []\n",
        "        for e in range(n_e):\n",
        "            optimizer_list.append(tf.keras.optimizers.Adam(learning_rate=learning_rate))\n",
        "\n",
        "        ####### train\n",
        "\n",
        "        train_accuracy_results_0 = []   # list to store training accuracy\n",
        "\n",
        "\n",
        "        flag = 'false'\n",
        "        num_epochs = self.num_epochs\n",
        "        batch_size = self.batch_size\n",
        "        num_examples= data_tuple_list[0][0].shape[0]\n",
        "        period      = n_e               \n",
        "        termination_acc = self.termination_acc\n",
        "        warm_start      = self.warm_start\n",
        "        steps           = 0\n",
        "        for epoch in range(num_epochs):\n",
        "            print (\"Epoch: \"  + str(epoch))\n",
        "            datat_list = []\n",
        "            for e in range(n_e):\n",
        "                x_e = data_tuple_list[e][0]\n",
        "                y_e = data_tuple_list[e][1]\n",
        "                datat_list.append(shuffle(x_e,y_e)) \n",
        "            count = 0\n",
        "            for offset in range(0,num_examples, batch_size):\n",
        "                end = offset + batch_size\n",
        "                batch_x_list = []  # list to store batches for each environment\n",
        "                batch_y_list = []  # list to store batches of labels for each environment\n",
        "                loss_value_list = []  # list to store loss values\n",
        "                grads_list      = []  # list to store gradients\n",
        "                countp = count % period # countp decides the index of the model which trains in the current step\n",
        "                for e in range(n_e):\n",
        "                    batch_x_list.append(datat_list[e][0][offset:end,:])\n",
        "                    batch_y_list.append(datat_list[e][1][offset:end,:])\n",
        "                    loss_value, grads = grad_comb(model_list, batch_x_list[e], batch_y_list[e],e)\n",
        "                    grads_list.append(grads)\n",
        "                # update the environment whose turn it is to learn\n",
        "                optimizer_list[countp].apply_gradients(zip(grads_list[countp], model_list[countp].trainable_variables))\n",
        "\n",
        "                # computing training accuracy\n",
        "                y_ = tf.zeros_like(y_in, dtype=tf.float32)\n",
        "                for e in range(n_e):\n",
        "                    y_ = y_ + model_list[e](x_in)\n",
        "                epoch_accuracy = tf.keras.metrics.SparseCategoricalAccuracy()\n",
        "                acc_train = np.float(epoch_accuracy(y_in, y_))\n",
        "                train_accuracy_results_0.append(acc_train)\n",
        "                \n",
        "                if(steps>=warm_start and acc_train<termination_acc): ## Terminate after warm start and train acc touches threshold we dont want it to fall below \n",
        "                    flag = 'true' \n",
        "                    break      \n",
        "\n",
        "                count = count +1\n",
        "                steps = steps +1\n",
        "                self.train_accuracy_results = train_accuracy_results_0\n",
        "            if (flag == 'true'):\n",
        "                break\n",
        "        self.model_list = model_list \n",
        "        \n",
        "        self.x_in      = x_in\n",
        "        self.y_in      = y_in\n",
        "\n",
        "       \n",
        "    def evaluate(self, data_tuple_test):\n",
        "        ##### evaluations jmtd\n",
        "        x_test = data_tuple_test[0]\n",
        "        y_test = data_tuple_test[1]\n",
        "        x_in   = self.x_in\n",
        "        y_in   = self.y_in\n",
        "        \n",
        "        model_list = self.model_list\n",
        "        n_e        = len(model_list)\n",
        "        train_accuracy= tf.keras.metrics.SparseCategoricalAccuracy()\n",
        "        test_accuracy= tf.keras.metrics.SparseCategoricalAccuracy()\n",
        "\n",
        "        ytr_ = tf.zeros_like(y_in, dtype=tf.float32)\n",
        "        for e in range(n_e):\n",
        "            ytr_ = ytr_ + model_list[e](x_in)\n",
        "        train_acc =  np.float(train_accuracy(y_in, ytr_))\n",
        "\n",
        "        yts_ = tf.zeros_like(y_test, dtype=tf.float32)\n",
        "        for e in range(n_e):\n",
        "            yts_ = yts_ + model_list[e](x_test) \n",
        "\n",
        "        test_acc  =  np.float(test_accuracy(y_test, yts_))\n",
        "        \n",
        "        self.train_acc = train_acc\n",
        "        self.test_acc  = test_acc"
      ],
      "metadata": {
        "id": "isboB63569qR"
      },
      "execution_count": null,
      "outputs": []
    },
    {
      "cell_type": "markdown",
      "source": [
        "## 2. Variable_irm_game_model class. Implements variable-IRM game from Ahuja et.al.. It has same hyperparameters, methods and attributes as  fixed_irm_game_model. \n",
        "    \n",
        "        A) Initialization: variable_irm_game_model(model_list, learning_rate, num_epochs, batch_size, termination_acc, warm_start)\n",
        "           i) model_list: list of models for each environment and the representation learner; note the main difference between variable_irm_game_model and fixed_irm_game_model is model_list also contains a model for the representation learner that we learn \n",
        "           ii) learning_rate: learning rate for Adam optimizer for training the models for each environment\n",
        "           iii) batch_size: size of the batch used for each gradient update\n",
        "            iv) num_epochs: number of epochs is number of training steps = number of training samples//batch size (each epoch is one full pass of the training data)\n",
        "           v) termination_acc: once the model accuracy falls below this threshold we terminate training\n",
        "            vi) warm_start: minimum number of steps before we terminate due to accuracy falling below threshold\n",
        "\n",
        "        B) Methods:\n",
        "            i) fit(data_tuple_list): takes data_tuple_list and trains the models\n",
        "                   data_tuple_list: list of length n_e, each element of the list is a tuple with three elements (data, label, environment index)\n",
        "\n",
        "            ii) evaluate(data_tuple_test): tuple with three elements (data_test, label_test, test environment index)\n",
        "\n",
        "        C) Attributes:\n",
        "            i) model_list: list of models for each environment\n",
        "            ii) train_acc: training accuracy (use after running evaluate method)\n",
        "            iii) test_acc: testing accuracy  (use after running evaluate method) \n",
        "\n",
        "    "
      ],
      "metadata": {
        "id": "JYtScPqn-cmd"
      }
    },
    {
      "cell_type": "code",
      "source": [
        "class variable_irm_game_model:\n",
        "    def __init__(self, model_list, learning_rate, num_epochs, batch_size, termination_acc, warm_start):\n",
        "        \n",
        "        self.model_list        = model_list          # list of models for the environments and representation learner\n",
        "        self.num_epochs        = num_epochs          # number of epochs\n",
        "        self.batch_size        = batch_size          # batch size for each gradient update\n",
        "        self.termination_acc   = termination_acc     # threshold on accuracy below which we terminate\n",
        "        self.warm_start        = warm_start          # minimum number of steps before terminating\n",
        "        self.learning_rate     = learning_rate       # learning rate for Adam optimizer\n",
        "    \n",
        "    def fit(self, data_tuple_list):\n",
        "        n_e  = len(data_tuple_list)                                # number of environments\n",
        "        # combine the data from the different environments x_in: combined data (features) from environments, y_in: combined labels from environments, e_in: combined environment indices from environments\n",
        "        x_in = data_tuple_list[0][0]              \n",
        "        for i in range(1,n_e):\n",
        "            x_c = data_tuple_list[i][0]\n",
        "            x_in = np.concatenate((x_in, x_c), axis=0)\n",
        "        y_in = data_tuple_list[0][1]\n",
        "        for i in range(1,n_e):\n",
        "            y_c = data_tuple_list[i][1]\n",
        "            y_in = np.concatenate((y_in, y_c), axis=0)\n",
        "        e_in = data_tuple_list[0][2]\n",
        "        for i in range(1,n_e):\n",
        "            e_c = data_tuple_list[i][2]\n",
        "            e_in = np.concatenate((e_in, e_c), axis=0) \n",
        "            \n",
        "        # cross entropy loss\n",
        "        def loss_comb(model_list, x, y):\n",
        "            loss_object = tf.keras.losses.SparseCategoricalCrossentropy(from_logits=True)\n",
        "            n_e = len(model_list)-1\n",
        "            y_ = tf.zeros_like(y, dtype=tf.float32)\n",
        "            # pass the data from the representation learner\n",
        "            z = model_list[n_e](x) \n",
        "            # pass the output from the representation learner into the environments and aggregate them \n",
        "            for i in range(n_e):\n",
        "                model_i = model_list[i]\n",
        "                y_ = y_ + 0.5*model_i(z)\n",
        "\n",
        "\n",
        "            return loss_object(y_true=y, y_pred=y_)\n",
        "\n",
        "        # gradient of cross entropy loss for environment e\n",
        "        def grad_comb(model_list, inputs, targets, e):\n",
        "            with tf.GradientTape() as tape:\n",
        "                loss_value = loss_comb(model_list, inputs, targets)\n",
        "            return loss_value, tape.gradient(loss_value, model_list[e].trainable_variables)\n",
        "\n",
        "\n",
        "        model_list = self.model_list\n",
        "        learning_rate = self.learning_rate\n",
        "        \n",
        "        # initialize optimizer for all the environments and representation learner and store it in a list\n",
        "        optimizer_list = []\n",
        "        for e in range(n_e+1):\n",
        "            if (e<=n_e-1):\n",
        "                optimizer_list.append(tf.keras.optimizers.Adam(learning_rate=learning_rate))\n",
        "            if (e==n_e):\n",
        "                optimizer_list.append(tf.keras.optimizers.Adam(learning_rate=learning_rate*0.1))\n",
        "\n",
        "\n",
        "        ####### train\n",
        "\n",
        "        train_accuracy_results_0 = []   # list to store training accuracy  \n",
        "\n",
        "\n",
        "        flag = 'false'\n",
        "        num_epochs = self.num_epochs\n",
        "        batch_size = self.batch_size\n",
        "        num_examples= data_tuple_list[0][0].shape[0]\n",
        "        period      = n_e+1               # \n",
        "        termination_acc = self.termination_acc\n",
        "        warm_start      = self.warm_start\n",
        "        steps           = 0\n",
        "        for epoch in range(num_epochs):\n",
        "            print (\"Epoch: \" + str(epoch))\n",
        "            datat_list = []\n",
        "            for e in range(n_e+1):\n",
        "                if(e<=n_e-1):\n",
        "                    x_e = data_tuple_list[e][0]\n",
        "                    y_e = data_tuple_list[e][1]\n",
        "                    datat_list.append(shuffle(x_e,y_e)) \n",
        "                if (e==n_e):\n",
        "                    datat_list.append(shuffle(x_in,y_in)) \n",
        "            count = 0\n",
        "            for offset in range(0,num_examples, batch_size):\n",
        "                end = offset + batch_size\n",
        "                batch_x_list = [] # list to store batches for each environment\n",
        "                batch_y_list = [] # list to store batches of labels for each environment\n",
        "                loss_value_list = [] # list to store loss values\n",
        "                grads_list      = [] # list to store gradients\n",
        "                countp = period- 1- (count % period)  # countp decides the index of the model which trains in the current step\n",
        "                for e in range(n_e+1):\n",
        "                    batch_x_list.append(datat_list[e][0][offset:end,:])\n",
        "                    batch_y_list.append(datat_list[e][1][offset:end,:])\n",
        "                    loss_value, grads = grad_comb(model_list, batch_x_list[e], batch_y_list[e],e)\n",
        "                    grads_list.append(grads)\n",
        "\n",
        "                # update either a representation learner or an environment model  \n",
        "                optimizer_list[countp].apply_gradients(zip(grads_list[countp], model_list[countp].trainable_variables))\n",
        "\n",
        "                # computing training accuracy\n",
        "                y_ = tf.zeros_like(y_in, dtype=tf.float32)\n",
        "                z_in = model_list[n_e](x_in)\n",
        "                for e in range(n_e):\n",
        "                    y_ = y_ + model_list[e](z_in)\n",
        "                epoch_accuracy = tf.keras.metrics.SparseCategoricalAccuracy()\n",
        "                acc_train = np.float(epoch_accuracy(y_in, y_))\n",
        "                train_accuracy_results_0.append(acc_train)\n",
        "                \n",
        "                if(steps>=warm_start and acc_train<termination_acc): # Terminate after warm start and train accuracy touches threshold we dont want it to fall below \n",
        "                    flag = 'true' \n",
        "                    break      \n",
        "                count = count +1\n",
        "                steps = steps +1\n",
        "                self.train_accuracy_results = train_accuracy_results_0\n",
        "            if (flag == 'true'):\n",
        "                break\n",
        "                \n",
        "        self.model_list = model_list \n",
        "        \n",
        "        self.x_in      = x_in\n",
        "        self.y_in      = y_in\n",
        "\n",
        "        \n",
        "        \n",
        "        \n",
        "    def evaluate(self, data_tuple_test):\n",
        "        ##### evaluations jmtd\n",
        "        x_test = data_tuple_test[0]\n",
        "        y_test = data_tuple_test[1]\n",
        "        x_in   = self.x_in\n",
        "        y_in   = self.y_in\n",
        "        \n",
        "        model_list = self.model_list\n",
        "        n_e        = len(model_list)-1\n",
        "        train_accuracy= tf.keras.metrics.SparseCategoricalAccuracy()\n",
        "        test_accuracy= tf.keras.metrics.SparseCategoricalAccuracy()\n",
        "        \n",
        "\n",
        "        # compute training accuracy\n",
        "        ytr_ = tf.zeros_like(y_in, dtype=tf.float32)\n",
        "        z_in = model_list[n_e](x_in)\n",
        "        for e in range(n_e):\n",
        "            ytr_ = ytr_ + model_list[e](z_in)\n",
        "        train_acc =  np.float(train_accuracy(y_in, ytr_))\n",
        "\n",
        "        # compute testing accuracy\n",
        "        z_test = model_list[n_e](x_test)\n",
        "        yts_ = tf.zeros_like(y_test, dtype=tf.float32)\n",
        "        for e in range(n_e):\n",
        "            yts_ = yts_ + model_list[e](z_test) \n",
        "\n",
        "        test_acc  =  np.float(test_accuracy(y_test, yts_))\n",
        "        \n",
        "        self.train_acc = train_acc\n",
        "        self.test_acc  = test_acc"
      ],
      "metadata": {
        "id": "s-360UtC7PDK"
      },
      "execution_count": null,
      "outputs": []
    },
    {
      "cell_type": "markdown",
      "source": [
        "##3. Irm_model. Implements IRM v1 from Arjovsky et.al. \n",
        "\n",
        "        A) Initialization:\n",
        "            irm_model(model_irm, learning_rate, batch_size, steps_max, steps_threshold, gamma_new)\n",
        "            i) model_irm: a keras model passed as input\n",
        "            ii) learning_rate: learning rate for Adam optimizer\n",
        "            iii) batch_size: size of the batch per gradient update\n",
        "            iv) steps_max: maximum number of gradient updates\n",
        "            v) steps_threshold: threshold after which to update the penalty value\n",
        "            vi) gamma_new: penatly to be used after steps_threshold, upto steps_threshold a penalty of gamma=1 is used\n",
        "\n",
        "        B) Methods:\n",
        "            i) fit(data_tuple_list): takes data_tuple_list and trains the model\n",
        "                   data_tuple_list- list of length n_e, each element of the list is a tuple with three elements (data, label, environment index)     \n",
        "            ii) evaluate(data_tuple_test): tuple with three elements (data_test, label_test, test environment index) \n",
        "\n",
        "         C) Attributes:\n",
        "                i) train_acc: training accuracy (use after running evaluate method)\n",
        "                ii) test_acc: testing accuracy  (use after running evaluate method) \n",
        "\n",
        "      "
      ],
      "metadata": {
        "id": "3VgkwxZD-pAk"
      }
    },
    {
      "cell_type": "code",
      "source": [
        "class irm_model:\n",
        "    def __init__(self, model, learning_rate, batch_size, steps_max, steps_threshold, gamma_new):\n",
        "        self.model= model                                 # initialized model passed\n",
        "        self.learning_rate = learning_rate                # learning rate for Adam optimizer\n",
        "        self.batch_size    = batch_size                   # batch size per gradient update\n",
        "        self.steps_max     = steps_max                    # maximum number of gradient steps\n",
        "        self.steps_threshold = steps_threshold            # threshold on the number of steps after which we use penalty gamma_new\n",
        "        self.gamma_new      = gamma_new                   # penalty value; note penalty is set to 1 initially and gamma_new only kicks in after steps exceeed steps_threshold\n",
        "    \n",
        "    def fit(self,data_tuple_list):\n",
        "        \n",
        "        n_e  = len(data_tuple_list)                       # number of environments\n",
        "        # combine the data from the different environments, x_in: combined data (features) from different environments\n",
        "        x_in = data_tuple_list[0][0]\n",
        "        for i in range(1,n_e):\n",
        "            x_c = data_tuple_list[i][0]\n",
        "            x_in = np.concatenate((x_in, x_c), axis=0)\n",
        "        y_in = data_tuple_list[0][1]\n",
        "        for i in range(1,n_e):\n",
        "            y_c = data_tuple_list[i][1]\n",
        "            y_in = np.concatenate((y_in, y_c), axis=0)\n",
        "        e_in = data_tuple_list[0][2]\n",
        "        for i in range(1,n_e):\n",
        "            e_c = data_tuple_list[i][2]\n",
        "            e_in = np.concatenate((e_in, e_c), axis=0) \n",
        "        \n",
        "        self.x_in = x_in\n",
        "        self.y_in = y_in\n",
        "        \n",
        "        # cross entropy (we do not use the cross entropy from keras because there are issues when computing gradient of the gradient)\n",
        "        def cross_entropy_manual(y,y_pred):\n",
        "            y_p = tf.math.log(tf.nn.softmax(y_pred))\n",
        "            n_p = np.float(tf.shape(y_p)[0])\n",
        "            ind_0 = tf.where(y==0)[:,0]\n",
        "            ind_1 = tf.where(y==1)[:,0]\n",
        "            y_p0  = tf.gather(y_p, ind_0)[:,0]\n",
        "            y_p1  = tf.gather(y_p, ind_1)[:,1]\n",
        "            ent_0 = tf.reduce_sum(y_p0)\n",
        "            ent_1 = tf.reduce_sum(y_p1)\n",
        "            total = -(ent_0 + ent_1)/n_p\n",
        "            return total\n",
        "\n",
        "        # cross entropy loss for environment e\n",
        "        def loss_n(model,x,e,y,w,k):\n",
        "            index = np.where(e==k)\n",
        "            y1_ = model(x[index[0]])*w\n",
        "            y1  = y[index[0]]\n",
        "\n",
        "            return cross_entropy_manual(y1,y1_)   \n",
        "\n",
        "        # gradient of cross entropy loss w.r.t w for environment e\n",
        "        def grad_norm_n(model,x,e,y,w,k):\n",
        "            with tf.GradientTape() as g:\n",
        "                g.watch(w)\n",
        "                loss_value = loss_n(model,x,e,y,w,k)  \n",
        "            return g.gradient(loss_value, w)**2\n",
        "\n",
        "        # total cross entropy loss across all environments    \n",
        "        def loss_0(model, x,e,y,w):\n",
        "            y_ =model(x)\n",
        "            loss_object = tf.keras.losses.SparseCategoricalCrossentropy(from_logits=True)\n",
        "            return loss_object(y_true=y, y_pred=y_)\n",
        "        \n",
        "        # sum of cross entropy loss and penalty \n",
        "        def loss_total(model,x,e,y,w,gamma, n_e):\n",
        "            loss0 = loss_0(model,x,e,y,w)\n",
        "            loss_penalty = 0.0\n",
        "            for k in range(n_e):\n",
        "                loss_penalty += gamma*grad_norm_n(model,x,e,y,w,k)\n",
        "\n",
        "            return (loss0 + loss_penalty)*(1/gamma)        \n",
        "        \n",
        "        # gradient of sum of cross entropy loss and penalty w.r.t model parameters\n",
        "        def grad_total_n(model,x,e,y,w,gamma, n_e):\n",
        "            with tf.GradientTape() as tape:\n",
        "                loss_value = loss_total(model,x,e,y,w,gamma,n_e)\n",
        "            return loss_value, tape.gradient(loss_value, model.trainable_variables)\n",
        "        \n",
        "        model = self.model\n",
        "        learning_rate = self.learning_rate\n",
        "        optimizer = tf.keras.optimizers.Adam(learning_rate=learning_rate)\n",
        "        \n",
        "        ## train \n",
        "        train_loss_results = []\n",
        "        train_accuracy_results = []\n",
        "        flag = 'false'\n",
        "        batch_size = self.batch_size\n",
        "        num_examples= x_in.shape[0]\n",
        "        gamma     = 1.0\n",
        "        w         = tf.constant(1.0)\n",
        "        steps     = 0\n",
        "        steps_max  = self.steps_max\n",
        "        steps_threshold = self.steps_threshold\n",
        "        gamma_new       = self.gamma_new\n",
        "        while(steps<=steps_max):\n",
        "            (xt,yt,et)   = shuffle(x_in,y_in,e_in)\n",
        "            epoch_loss_avg = tf.keras.metrics.Mean()\n",
        "            epoch_accuracy = tf.keras.metrics.SparseCategoricalAccuracy()\n",
        "            count = 0\n",
        "            if(steps>=steps_threshold):\n",
        "                gamma = gamma_new\n",
        "            for offset in range(0,num_examples, batch_size):\n",
        "                end = offset + batch_size\n",
        "                batch_x, batch_y, batch_e = xt[offset:end,:], yt[offset:end,:], et[offset:end,:]\n",
        "                loss_values, grads = grad_total_n(model,batch_x,batch_e,batch_y,w,gamma,n_e)\n",
        "                optimizer.apply_gradients(zip(grads, model.trainable_variables))\n",
        "                epoch_loss_avg(loss_values)    \n",
        "                epoch_accuracy = tf.keras.metrics.SparseCategoricalAccuracy()\n",
        "                acc_train = np.float(epoch_accuracy(y_in, model(x_in)))\n",
        "                train_loss_results.append(epoch_loss_avg.result())\n",
        "                train_accuracy_results.append(epoch_accuracy.result())\n",
        "                count = count +1 \n",
        "                steps = steps + 1\n",
        "            \n",
        "    def evaluate(self, data_tuple_test):\n",
        "        x_test = data_tuple_test[0]\n",
        "        y_test = data_tuple_test[1]\n",
        "        x_in   = self.x_in\n",
        "        y_in   = self.y_in\n",
        "        train_accuracy= tf.keras.metrics.SparseCategoricalAccuracy()\n",
        "        test_accuracy= tf.keras.metrics.SparseCategoricalAccuracy()\n",
        "        model  = self.model\n",
        "        ytr_ = model.predict(x_in)\n",
        "        train_acc =  np.float(train_accuracy(y_in, ytr_))\n",
        "        \n",
        "        yts_ = model.predict(x_test)\n",
        "        test_acc =  np.float(test_accuracy(y_test, yts_))\n",
        "        \n",
        "        self.train_acc = train_acc\n",
        "        self.test_acc  = test_acc\n",
        "\n"
      ],
      "metadata": {
        "id": "HT5Kz3ws5am_"
      },
      "execution_count": null,
      "outputs": []
    },
    {
      "cell_type": "markdown",
      "source": [
        "##4. Standard_erm_model. Implements standard empirical risk minimization. \n",
        "        A) Initialization: \n",
        "            standard_erm_model(model_erm, num_epochs, batch_size):\n",
        "                i) model_erm: a keras model passed as input\n",
        "                ii) num_epochs: number of epochs\n",
        "                iii) batch_size: size of batch per gradient update\n",
        "                iv) learning_rate: learning rate for Adam optimizer\n",
        "        \n",
        "        B) Methods:\n",
        "            i) fit(data_tuple_list): takes data_tuple_list and trains the model\n",
        "                   data_tuple_list- list of length n_e, each element of the list is a tuple with three elements (data, label, environment index)     \n",
        "            ii) evaluate(data_tuple_test): tuple with three elements (data_test, label_test, test environment index) \n",
        "\n",
        "\n",
        "         C) Attributes:\n",
        "                i) train_acc: training accuracy (use after running evaluate method)\n",
        "                ii) test_acc: testing accuracy  (use after running evaluate method)    \n",
        "     "
      ],
      "metadata": {
        "id": "6ofOS5eG-r98"
      }
    },
    {
      "cell_type": "code",
      "source": [
        "class standard_erm_model:\n",
        "    def __init__(self, model,  num_epochs, batch_size, learning_rate):\n",
        "        \n",
        "        self.model        = model\n",
        "        self.num_epochs   = num_epochs\n",
        "        self.batch_size   = batch_size\n",
        "        self.learning_rate=learning_rate\n",
        "    \n",
        "    def fit(self, data_tuple_list):\n",
        "        learning_rate = self.learning_rate\n",
        "        num_epochs = self.num_epochs\n",
        "        n_e  = len(data_tuple_list)\n",
        "        x_in = data_tuple_list[0][0]\n",
        "        for i in range(1,n_e):\n",
        "            x_c = data_tuple_list[i][0]\n",
        "            x_in = np.concatenate((x_in, x_c), axis=0)\n",
        "        y_in = data_tuple_list[0][1]\n",
        "        for i in range(1,n_e):\n",
        "            y_c = data_tuple_list[i][1]\n",
        "            y_in = np.concatenate((y_in, y_c), axis=0)\n",
        "        e_in = data_tuple_list[0][2]\n",
        "        for i in range(1,n_e):\n",
        "            e_c = data_tuple_list[i][2]\n",
        "            e_in = np.concatenate((e_in, e_c), axis=0) \n",
        "        \n",
        "\n",
        "    ### fit the model\n",
        "        model = self.model\n",
        "        batch_size = self.batch_size\n",
        "\n",
        "\n",
        "        model.compile(optimizer=tf.keras.optimizers.Adam(learning_rate=learning_rate),\n",
        "                  loss='sparse_categorical_crossentropy',\n",
        "                  metrics=['accuracy'])\n",
        "\n",
        "        model.fit(x_in, y_in,  epochs=num_epochs, batch_size=batch_size)\n",
        "  \n",
        "        self.x_in      = x_in\n",
        "        self.y_in      = y_in      \n",
        "        \n",
        "\n",
        "\n",
        "        \n",
        "        \n",
        "        \n",
        "    def evaluate(self, data_tuple_test):\n",
        "        ##### evaluations jmtd\n",
        "        x_test = data_tuple_test[0]\n",
        "        y_test = data_tuple_test[1]\n",
        "        x_in   = self.x_in\n",
        "        y_in   = self.y_in\n",
        "        \n",
        "        model = self.model\n",
        "        train_accuracy= tf.keras.metrics.SparseCategoricalAccuracy()\n",
        "        test_accuracy= tf.keras.metrics.SparseCategoricalAccuracy()\n",
        "\n",
        "        ytr_ = model.predict(x_in)\n",
        "        train_acc =  np.float(train_accuracy(y_in, ytr_))\n",
        "\n",
        "        yts_ = model.predict(x_test)\n",
        "\n",
        "        test_acc  =  np.float(test_accuracy(y_test, yts_))\n",
        "        \n",
        "        self.train_acc = train_acc\n",
        "        self.test_acc  = test_acc"
      ],
      "metadata": {
        "id": "WGX1HQGZ7YQj"
      },
      "execution_count": null,
      "outputs": []
    },
    {
      "cell_type": "markdown",
      "metadata": {
        "id": "ihrVphc25R78"
      },
      "source": [
        "# IRM \n",
        "\n",
        "#### Training data:\n",
        "Data from different environments $\\mathcal{D} = \\{\\{(x_i^{q},y_i^{q}\\}_{i=1}^{n_q}\\}_{q=1}^{K}$, where $K$ is number of environments and $n_q$ is number of points in environment with index $q$.\n",
        "\n",
        "#### Invariant predictor:  \n",
        "Define a representation $\\phi:\\mathcal{X} \\rightarrow \\mathcal{Z}$ and a classifier $w: \\mathcal{Z} \\rightarrow \\mathbb{R}^k$. The predictor is composite function $w\\circ \\phi$. We define a predictor $w\\circ \\phi$ to be invariant if a same classifier $w$ minimizes the risk across all the environments, i.e. $w \\in \\arg\\min_{\\bar{w}} R^{e}(\\bar{w}\\circ \\phi), \\forall e \\in \\{1,.., K\\} $, where risk is expected loss of predictor w.r.t labels.\n",
        "\n",
        "#### IRM from Arjovsky et.al. objective \n",
        "\n",
        "Consider the following alternate minimization problem \n",
        "\n",
        "$\\min_{\\phi} \\sum_{q=1}^{K}R^{q}(\\phi)  + \\lambda \\sum_{q=1}^{K}\\nabla_{w |w=1.0} R^{q}(w.\\Phi)$\n",
        "\n",
        "We use the above objective to train a neural network that model for $\\phi$ \n",
        "\n",
        "\n",
        "#### IRM games Ahuja et.al. objective \n",
        "\n",
        "Define a classifier for each environment $w^q: \\mathcal{X} \\rightarrow \\mathbb{R}^k$ and $w^{av}= \\frac{1}{K}\\sum_{q=1}^{K}w^{q}$.  \n",
        "\n",
        "The objective of each environment $e$ is $R^{e}(w^{av} \\circ \\phi) $, where $w^{av}= \\frac{1}{K}\\sum_{q=1}^{K}w^{q}$. \n",
        "\n",
        "In the F-IRM approach (F-IRM game). We fix $\\phi$ to identity. Each environment takes turn to optimize $R^{e}(w^{av} \\circ \\phi) $. The environment $e$ updates the classifier  $w^e$ using SGD  step $R^{e}(w^{av} \\circ \\phi) $.\n",
        "\n",
        "In the V-IRM approach (V-IRM game).  The objective of the representation learner  is $\\sum_{q=1}^{K}R^{q}(w^{av} \\circ \\phi) $. The representation learner updates $\\phi$ using SGD updates and between two updates environments takes turn to update $w^e$.\n",
        "Each environment takes turn to optimize $R^{e}(w^{av} \\circ \\phi) $. The environment $e$ updates the classifier  $w^e$ using SGD  step $R^{e}(w^{av} \\circ \\phi) $.  \n",
        "\n",
        "\n",
        "\n",
        "\n",
        "\n"
      ]
    },
    {
      "cell_type": "markdown",
      "metadata": {
        "id": "Xf4VwqG-5R8B"
      },
      "source": [
        "# MNIST digits:  2 environments\n",
        "\n",
        "Below we illustrate how to use our IRM methods. \n",
        "We first setup the data in the cell below.  We set p_color_list = [0.2, 0.1] (from experiments in Arjovsky et.al.); note that there is marginal difference between the probabilities of switching the labels in the two environments. This marginal difference is useful for IRM methods to learn invariant predictors across environments that exploit the shape of digits and not the color. "
      ]
    },
    {
      "cell_type": "code",
      "execution_count": null,
      "metadata": {
        "colab": {
          "base_uri": "https://localhost:8080/"
        },
        "id": "LhWDtzmi5R8C",
        "outputId": "2fd74642-8eaf-47bc-8249-607b24bb67fe"
      },
      "outputs": [
        {
          "output_type": "stream",
          "name": "stdout",
          "text": [
            "Downloading data from https://storage.googleapis.com/tensorflow/tf-keras-datasets/mnist.npz\n",
            "11493376/11490434 [==============================] - 0s 0us/step\n",
            "11501568/11490434 [==============================] - 0s 0us/step\n"
          ]
        }
      ],
      "source": [
        "# Create data for each environment\n",
        "\n",
        "n_e = 2  # number of environments\n",
        "\n",
        "p_color_list = [0.2, 0.1] # list of probabilities of switching the final label to obtain the color index\n",
        "p_label_list = [0.25]*n_e # list of probabilities of switching pre-label\n",
        "D = assemble_data_mnist() # initialize mnist digits data object\n",
        "\n",
        "D.create_training_data(n_e, p_color_list, p_label_list) # creates the training environments\n",
        "\n",
        "p_label_test = 0.25 # probability of switching pre-label in test environment\n",
        "p_color_test = 0.9  # probability of switching the final label to obtain the color index in test environment\n",
        "\n",
        "D.create_testing_data(p_color_test, p_label_test, n_e)  # sets up the testing environment\n",
        "(num_examples_environment,length, width, height) = D.data_tuple_list[0][0].shape # attributes of the data\n",
        "num_classes = len(np.unique(D.data_tuple_list[0][1])) # number of classes in the data"
      ]
    },
    {
      "cell_type": "markdown",
      "metadata": {
        "id": "iH1OLQsh5R8D"
      },
      "source": [
        "### Initialize the architecture for F-IRM game \n",
        "\n",
        "In the cell below, for each environment we initialize an architecture. We use the MLP architectue that was described in https://arxiv.org/pdf/2002.04692.pdf . \n",
        "\n",
        "If you decide to choose a new architecture, please take care to ensure that you keep the input shape as is that is length, width, and height (which we obtained above) and output shape as num_classes."
      ]
    },
    {
      "cell_type": "code",
      "execution_count": null,
      "metadata": {
        "id": "a-Nk0xDm5R8E"
      },
      "outputs": [],
      "source": [
        "# we use same architecture across environments and store it in a list\n",
        "model_list = [] \n",
        "for e in range(n_e):\n",
        "    model_list.append(keras.Sequential([\n",
        "            keras.layers.Flatten(input_shape=(length, width,height)),\n",
        "            keras.layers.Dense(390, activation = 'elu'),\n",
        "             keras.layers.Dropout(0.75),\n",
        "            keras.layers.Dense(390, activation='elu'),\n",
        "             keras.layers.Dropout(0.75),\n",
        "            keras.layers.Dense(num_classes)\n",
        "    ]))"
      ]
    },
    {
      "cell_type": "markdown",
      "metadata": {
        "id": "mfERTqq55R8F"
      },
      "source": [
        "### Select other hyper-parameters for the F-IRM game\n"
      ]
    },
    {
      "cell_type": "code",
      "execution_count": null,
      "metadata": {
        "id": "o10fVcGR5R8G"
      },
      "outputs": [],
      "source": [
        "\n",
        "num_epochs       = 25\n",
        "batch_size       = 256\n",
        "termination_acc  = 0.6\n",
        "warm_start       = 100\n",
        "learning_rate    = 2.5e-4\n",
        "\n",
        "# other hyper-parameters to try \n",
        "# num_epochs       = 25\n",
        "# batch_size       = 256\n",
        "# termination_acc  = 0.53\n",
        "# warm_start       = 100\n",
        "# learning_rate    = 5e-4"
      ]
    },
    {
      "cell_type": "markdown",
      "metadata": {
        "id": "t9xv6SDm5R8H"
      },
      "source": [
        "### Initialize F-IRM model, fit and evaluate"
      ]
    },
    {
      "cell_type": "code",
      "execution_count": null,
      "metadata": {
        "colab": {
          "base_uri": "https://localhost:8080/"
        },
        "id": "NInCGYXh5R8I",
        "outputId": "c5967893-2a4e-46b7-b33b-6f20f177c237"
      },
      "outputs": [
        {
          "output_type": "stream",
          "name": "stdout",
          "text": [
            "Epoch: 0\n"
          ]
        },
        {
          "output_type": "stream",
          "name": "stderr",
          "text": [
            "/usr/local/lib/python3.7/dist-packages/ipykernel_launcher.py:97: DeprecationWarning: `np.float` is a deprecated alias for the builtin `float`. To silence this warning, use `float` by itself. Doing this will not modify any behavior and is safe. If you specifically wanted the numpy scalar type, use `np.float64` here.\n",
            "Deprecated in NumPy 1.20; for more details and guidance: https://numpy.org/devdocs/release/1.20.0-notes.html#deprecations\n"
          ]
        },
        {
          "output_type": "stream",
          "name": "stdout",
          "text": [
            "Epoch: 1\n"
          ]
        },
        {
          "output_type": "stream",
          "name": "stderr",
          "text": [
            "/usr/local/lib/python3.7/dist-packages/ipykernel_launcher.py:130: DeprecationWarning: `np.float` is a deprecated alias for the builtin `float`. To silence this warning, use `float` by itself. Doing this will not modify any behavior and is safe. If you specifically wanted the numpy scalar type, use `np.float64` here.\n",
            "Deprecated in NumPy 1.20; for more details and guidance: https://numpy.org/devdocs/release/1.20.0-notes.html#deprecations\n"
          ]
        },
        {
          "output_type": "stream",
          "name": "stdout",
          "text": [
            "Training accuracy 0.5971666574478149\n",
            "Testing accuracy 0.6068999767303467\n"
          ]
        },
        {
          "output_type": "stream",
          "name": "stderr",
          "text": [
            "/usr/local/lib/python3.7/dist-packages/ipykernel_launcher.py:136: DeprecationWarning: `np.float` is a deprecated alias for the builtin `float`. To silence this warning, use `float` by itself. Doing this will not modify any behavior and is safe. If you specifically wanted the numpy scalar type, use `np.float64` here.\n",
            "Deprecated in NumPy 1.20; for more details and guidance: https://numpy.org/devdocs/release/1.20.0-notes.html#deprecations\n"
          ]
        }
      ],
      "source": [
        "# initialize F-IRM model (we pass the hyper-parameters that we chose above)\n",
        "F_game = fixed_irm_game_model(model_list, learning_rate, num_epochs, batch_size, termination_acc, warm_start) \n",
        "\n",
        "# fit function runs the training on the data that we created\n",
        "F_game.fit(D.data_tuple_list)\n",
        "\n",
        "# evaluate function runs and evaluates train and test accuracy of the final model\n",
        "F_game.evaluate(D.data_tuple_test) \n",
        "\n",
        "# print train and test accuracy\n",
        "print (\"Training accuracy \" + str(F_game.train_acc)) \n",
        "print (\"Testing accuracy \" + str(F_game.test_acc))"
      ]
    },
    {
      "cell_type": "markdown",
      "metadata": {
        "id": "zwJmBOWD5R8J"
      },
      "source": [
        "### Selecting termination_acc using training accuracy plot\n",
        "\n",
        "1. Start by setting a very low termination accuracy value say 0.1 and large number of epochs. \n",
        "2. Plot the training accuracy plot to see the range of oscillations; use the minimum value around which oscillation occurs as the threshold \n",
        "\n",
        "3. In the above experiment, we found 0.6 to be the value based on the plot. "
      ]
    },
    {
      "cell_type": "code",
      "execution_count": null,
      "metadata": {
        "colab": {
          "base_uri": "https://localhost:8080/",
          "height": 72
        },
        "id": "uMTit0YH5R8J",
        "outputId": "7be80428-10fa-480d-c460-d274df6dcbd8"
      },
      "outputs": [
        {
          "output_type": "execute_result",
          "data": {
            "text/plain": [
              "[<matplotlib.lines.Line2D at 0x7f0a448de2d0>]"
            ]
          },
          "metadata": {},
          "execution_count": 12
        },
        {
          "output_type": "display_data",
          "data": {
            "text/plain": [
              "<Figure size 432x288 with 1 Axes>"
            ],
            "image/png": "[encoded data removed]"
          },
          "metadata": {
            "needs_background": "light"
          }
        }
      ],
      "source": [
        "plt.xlabel(\"Training steps\")\n",
        "plt.ylabel(\"Training accuracy\")\n",
        "plt.plot(F_game.train_accuracy_results)"
      ]
    },
    {
      "cell_type": "markdown",
      "metadata": {
        "id": "gTYjuhN55R8K"
      },
      "source": [
        "### Initialize the architecture for V-IRM game \n",
        "\n",
        "In the cell below, for each environment we initialize an architecture. We use the MLP architectue that was described in https://arxiv.org/pdf/2002.04692.pdf.\n",
        "\n",
        "If you choose a new architecture, please take care to ensure that you keep the input shape as length, width, and height (which we obtained above) and output shape is num_classes."
      ]
    },
    {
      "cell_type": "code",
      "execution_count": null,
      "metadata": {
        "id": "Q4x3pmN95R8L"
      },
      "outputs": [],
      "source": [
        "\n",
        "model_list = [] # we use same architecture across environments and store it in a list and the last element of the list \n",
        "# corresponds to the architecture for the representation learner\n",
        "for e in range(n_e+1):\n",
        "    if(e<=n_e-1): \n",
        "        model_list.append( keras.Sequential([\n",
        "            keras.layers.Flatten(input_shape=(390,1)),\n",
        "            keras.layers.Dense(390, activation = 'elu'),\n",
        "            keras.layers.Dropout(0.75),\n",
        "            keras.layers.Dense(390, activation='elu'),\n",
        "            keras.layers.Dropout(0.75),\n",
        "            keras.layers.Dense(num_classes)\n",
        "        ]))\n",
        "    if(e==n_e):\n",
        "        model_list.append(keras.Sequential([\n",
        "        keras.layers.Flatten(input_shape=(length, width,height)),\n",
        "        keras.layers.Dense(390, activation = 'elu',kernel_regularizer=keras.regularizers.l2(0.00125)),\n",
        "      ]))"
      ]
    },
    {
      "cell_type": "markdown",
      "metadata": {
        "id": "1RkNtEX75R8L"
      },
      "source": [
        "### Select other hyper-parameters for the V-IRM game\n"
      ]
    },
    {
      "cell_type": "code",
      "execution_count": null,
      "metadata": {
        "id": "3KeqGmNf5R8L"
      },
      "outputs": [],
      "source": [
        "\n",
        "num_epochs       = 25\n",
        "batch_size       = 256\n",
        "termination_acc  = 0.55\n",
        "warm_start       = 100\n",
        "learning_rate    = 2.5e-4\n"
      ]
    },
    {
      "cell_type": "markdown",
      "metadata": {
        "id": "66F0i1eE5R8M"
      },
      "source": [
        "### Initialize V-IRM model, fit and evaluate"
      ]
    },
    {
      "cell_type": "code",
      "execution_count": null,
      "metadata": {
        "colab": {
          "base_uri": "https://localhost:8080/"
        },
        "id": "y3LAplVm5R8M",
        "outputId": "5ad3c393-8433-49da-998c-416b0d24eaff"
      },
      "outputs": [
        {
          "output_type": "stream",
          "name": "stdout",
          "text": [
            "Epoch: 0\n"
          ]
        },
        {
          "output_type": "stream",
          "name": "stderr",
          "text": [
            "/usr/local/lib/python3.7/dist-packages/ipykernel_launcher.py:107: DeprecationWarning: `np.float` is a deprecated alias for the builtin `float`. To silence this warning, use `float` by itself. Doing this will not modify any behavior and is safe. If you specifically wanted the numpy scalar type, use `np.float64` here.\n",
            "Deprecated in NumPy 1.20; for more details and guidance: https://numpy.org/devdocs/release/1.20.0-notes.html#deprecations\n"
          ]
        },
        {
          "output_type": "stream",
          "name": "stdout",
          "text": [
            "Epoch: 1\n",
            "Epoch: 2\n",
            "Epoch: 3\n"
          ]
        },
        {
          "output_type": "stream",
          "name": "stderr",
          "text": [
            "/usr/local/lib/python3.7/dist-packages/ipykernel_launcher.py:145: DeprecationWarning: `np.float` is a deprecated alias for the builtin `float`. To silence this warning, use `float` by itself. Doing this will not modify any behavior and is safe. If you specifically wanted the numpy scalar type, use `np.float64` here.\n",
            "Deprecated in NumPy 1.20; for more details and guidance: https://numpy.org/devdocs/release/1.20.0-notes.html#deprecations\n"
          ]
        },
        {
          "output_type": "stream",
          "name": "stdout",
          "text": [
            "0.534850001335144\n",
            "0.5981000065803528\n"
          ]
        },
        {
          "output_type": "stream",
          "name": "stderr",
          "text": [
            "/usr/local/lib/python3.7/dist-packages/ipykernel_launcher.py:153: DeprecationWarning: `np.float` is a deprecated alias for the builtin `float`. To silence this warning, use `float` by itself. Doing this will not modify any behavior and is safe. If you specifically wanted the numpy scalar type, use `np.float64` here.\n",
            "Deprecated in NumPy 1.20; for more details and guidance: https://numpy.org/devdocs/release/1.20.0-notes.html#deprecations\n"
          ]
        }
      ],
      "source": [
        "# initialize V-IRM model (we pass the hyper-parameters that we chose above)\n",
        "V_game = variable_irm_game_model(model_list, learning_rate, num_epochs, batch_size, termination_acc, warm_start) \n",
        "\n",
        "# fit function runs the training on the data that we created\n",
        "V_game.fit(D.data_tuple_list) \n",
        "\n",
        "# evaluate function runs and evaluates train and test accuracy of the final model\n",
        "V_game.evaluate(D.data_tuple_test) \n",
        "\n",
        "# print train and test accuracy\n",
        "print (V_game.train_acc)\n",
        "print (V_game.test_acc)"
      ]
    },
    {
      "cell_type": "markdown",
      "metadata": {
        "id": "jlbji3-W5R8N"
      },
      "source": [
        "### Selecting termination_acc using training accuracy plot\n",
        "\n",
        "\n",
        "1. Start by setting a very low termination accuracy value say 0.1 and large number of epochs. \n",
        "2. Plot the training accuracy plot to see the range of oscillations; use the minimum value around which oscillation occurs as the threshold \n",
        "\n",
        "3. In the above experiment, we found 0.55 to be the value based on the plot.  "
      ]
    },
    {
      "cell_type": "code",
      "execution_count": null,
      "metadata": {
        "colab": {
          "base_uri": "https://localhost:8080/",
          "height": 296
        },
        "id": "zgqzRWyJ5R8O",
        "outputId": "8610638c-9112-4b14-cf80-e1cf7c911779"
      },
      "outputs": [
        {
          "output_type": "execute_result",
          "data": {
            "text/plain": [
              "[<matplotlib.lines.Line2D at 0x7f0a442b0990>]"
            ]
          },
          "metadata": {},
          "execution_count": 16
        },
        {
          "output_type": "display_data",
          "data": {
            "text/plain": [
              "<Figure size 432x288 with 1 Axes>"
            ],
            "image/png": "[encoded data removed]"
          },
          "metadata": {
            "needs_background": "light"
          }
        }
      ],
      "source": [
        "plt.xlabel(\"Training steps\")\n",
        "plt.ylabel(\"Training accuracy\")\n",
        "plt.plot(V_game.train_accuracy_results)"
      ]
    },
    {
      "cell_type": "markdown",
      "metadata": {
        "id": "enS02pF65R8O"
      },
      "source": [
        "# Fashion MNIST: 2 environments\n",
        "\n",
        "We replicate the same experiments as above for Fashion MNIST data. "
      ]
    },
    {
      "cell_type": "code",
      "execution_count": null,
      "metadata": {
        "colab": {
          "base_uri": "https://localhost:8080/"
        },
        "id": "PopTz7gO5R8O",
        "outputId": "67e5b6ef-99c1-4e85-dcad-c3e1e3d428f0"
      },
      "outputs": [
        {
          "output_type": "stream",
          "name": "stdout",
          "text": [
            "Downloading data from https://storage.googleapis.com/tensorflow/tf-keras-datasets/train-labels-idx1-ubyte.gz\n",
            "32768/29515 [=================================] - 0s 0us/step\n",
            "40960/29515 [=========================================] - 0s 0us/step\n",
            "Downloading data from https://storage.googleapis.com/tensorflow/tf-keras-datasets/train-images-idx3-ubyte.gz\n",
            "26427392/26421880 [==============================] - 0s 0us/step\n",
            "26435584/26421880 [==============================] - 0s 0us/step\n",
            "Downloading data from https://storage.googleapis.com/tensorflow/tf-keras-datasets/t10k-labels-idx1-ubyte.gz\n",
            "16384/5148 [===============================================================================================] - 0s 0us/step\n",
            "Downloading data from https://storage.googleapis.com/tensorflow/tf-keras-datasets/t10k-images-idx3-ubyte.gz\n",
            "4423680/4422102 [==============================] - 0s 0us/step\n",
            "4431872/4422102 [==============================] - 0s 0us/step\n"
          ]
        }
      ],
      "source": [
        "# Create data for each environment\n",
        "\n",
        "n_e = 2    # number of environments\n",
        "\n",
        "p_color_list = [0.2, 0.1]   # list of probabilities of switching the final label to obtain the color index\n",
        "p_label_list = [0.25]*n_e   # list of probabilities of switching pre-label\n",
        "D = assemble_data_mnist_fashion()  # initialize mnist fashion data object\n",
        "\n",
        "D.create_training_data(n_e, p_color_list, p_label_list) # create the training environments\n",
        "p_label_test = 0.25     # probability of switching pre-label in test environment\n",
        "p_color_test = 0.9      # probability of switching the final label to obtain the color index in test environment\n",
        "\n",
        "D.create_testing_data(p_color_test, p_label_test, n_e)  # create the testing environments\n",
        "(num_examples_environment,length, width, height) = D.data_tuple_list[0][0].shape # attributes of the data\n",
        "num_classes = len(np.unique(D.data_tuple_list[0][1])) # number of classes in the data"
      ]
    },
    {
      "cell_type": "markdown",
      "metadata": {
        "id": "HN9Rc87G5R8P"
      },
      "source": [
        "### Initialize the architecture for F-IRM game "
      ]
    },
    {
      "cell_type": "code",
      "execution_count": null,
      "metadata": {
        "id": "0yZ6EtsS5R8P"
      },
      "outputs": [],
      "source": [
        "# we use same architecture across environments and store it in a list\n",
        "model_list = [] \n",
        "for e in range(n_e):\n",
        "    model_list.append(keras.Sequential([\n",
        "            keras.layers.Flatten(input_shape=(length, width,height)),\n",
        "            keras.layers.Dense(390, activation = 'elu'),\n",
        "             keras.layers.Dropout(0.75),\n",
        "            keras.layers.Dense(390, activation='elu'),\n",
        "             keras.layers.Dropout(0.75),\n",
        "            keras.layers.Dense(num_classes)\n",
        "    ]))"
      ]
    },
    {
      "cell_type": "markdown",
      "metadata": {
        "id": "pYqqesuk5R8P"
      },
      "source": [
        "### Select other hyper-parameters for the F-IRM game"
      ]
    },
    {
      "cell_type": "code",
      "execution_count": null,
      "metadata": {
        "id": "JhUakTQ45R8P"
      },
      "outputs": [],
      "source": [
        "\n",
        "num_epochs       = 25\n",
        "batch_size       = 256\n",
        "termination_acc  = 0.6\n",
        "warm_start       = 100\n",
        "learning_rate    = 2.5e-4\n"
      ]
    },
    {
      "cell_type": "markdown",
      "metadata": {
        "id": "uPyudPEV5R8Q"
      },
      "source": [
        "### Initialize F-IRM model, fit and evaluate"
      ]
    },
    {
      "cell_type": "code",
      "execution_count": null,
      "metadata": {
        "colab": {
          "base_uri": "https://localhost:8080/"
        },
        "id": "dRi8H_J55R8Q",
        "outputId": "64a74f2e-0cbc-4bf6-d007-02407bad9e75"
      },
      "outputs": [
        {
          "output_type": "stream",
          "name": "stdout",
          "text": [
            "Epoch: 0\n"
          ]
        },
        {
          "output_type": "stream",
          "name": "stderr",
          "text": [
            "/usr/local/lib/python3.7/dist-packages/ipykernel_launcher.py:97: DeprecationWarning: `np.float` is a deprecated alias for the builtin `float`. To silence this warning, use `float` by itself. Doing this will not modify any behavior and is safe. If you specifically wanted the numpy scalar type, use `np.float64` here.\n",
            "Deprecated in NumPy 1.20; for more details and guidance: https://numpy.org/devdocs/release/1.20.0-notes.html#deprecations\n"
          ]
        },
        {
          "output_type": "stream",
          "name": "stdout",
          "text": [
            "Epoch: 1\n"
          ]
        },
        {
          "output_type": "stream",
          "name": "stderr",
          "text": [
            "/usr/local/lib/python3.7/dist-packages/ipykernel_launcher.py:130: DeprecationWarning: `np.float` is a deprecated alias for the builtin `float`. To silence this warning, use `float` by itself. Doing this will not modify any behavior and is safe. If you specifically wanted the numpy scalar type, use `np.float64` here.\n",
            "Deprecated in NumPy 1.20; for more details and guidance: https://numpy.org/devdocs/release/1.20.0-notes.html#deprecations\n"
          ]
        },
        {
          "output_type": "stream",
          "name": "stdout",
          "text": [
            "Training accuracy 0.5943518280982971\n",
            "Testing accuracy 0.5208888649940491\n"
          ]
        },
        {
          "output_type": "stream",
          "name": "stderr",
          "text": [
            "/usr/local/lib/python3.7/dist-packages/ipykernel_launcher.py:136: DeprecationWarning: `np.float` is a deprecated alias for the builtin `float`. To silence this warning, use `float` by itself. Doing this will not modify any behavior and is safe. If you specifically wanted the numpy scalar type, use `np.float64` here.\n",
            "Deprecated in NumPy 1.20; for more details and guidance: https://numpy.org/devdocs/release/1.20.0-notes.html#deprecations\n"
          ]
        }
      ],
      "source": [
        "# initialize F-IRM model (we pass the hyper-parameters that we chose above)\n",
        "F_game = fixed_irm_game_model(model_list, learning_rate, num_epochs, batch_size, termination_acc, warm_start) \n",
        "\n",
        "# fit function runs the training on the data that we created\n",
        "F_game.fit(D.data_tuple_list)\n",
        "\n",
        "# evaluate function runs and evaluates train and test accuracy of the final model\n",
        "F_game.evaluate(D.data_tuple_test) \n",
        "\n",
        "# print train and test accuracy\n",
        "print (\"Training accuracy \" + str(F_game.train_acc)) \n",
        "print (\"Testing accuracy \" + str(F_game.test_acc))"
      ]
    },
    {
      "cell_type": "markdown",
      "metadata": {
        "id": "9gxQf7jM5R8R"
      },
      "source": [
        "### Selecting termination_acc using training accuracy plot\n",
        "\n",
        "1. Start by setting a very low termination accuracy value say 0.1 and large number of epochs. \n",
        "2. Plot the training accuracy plot to see the range of oscillations; use the minimum value around which oscillation occurs as the threshold \n",
        "\n",
        "3. In the above experiment, we found 0.6 to be the value based on the plot. "
      ]
    },
    {
      "cell_type": "code",
      "execution_count": null,
      "metadata": {
        "scrolled": true,
        "colab": {
          "base_uri": "https://localhost:8080/",
          "height": 72
        },
        "id": "HIOyC3Le5R8R",
        "outputId": "3e6aa6b9-e98b-43fe-f0eb-d295391740c9"
      },
      "outputs": [
        {
          "output_type": "execute_result",
          "data": {
            "text/plain": [
              "[<matplotlib.lines.Line2D at 0x7f0a441eeed0>]"
            ]
          },
          "metadata": {},
          "execution_count": 21
        },
        {
          "output_type": "display_data",
          "data": {
            "text/plain": [
              "<Figure size 432x288 with 1 Axes>"
            ],
            "image/png": "[encoded data removed]"
          },
          "metadata": {
            "needs_background": "light"
          }
        }
      ],
      "source": [
        "plt.xlabel(\"Training steps\")\n",
        "plt.ylabel(\"Training accuracy\")\n",
        "plt.plot(F_game.train_accuracy_results)"
      ]
    },
    {
      "cell_type": "markdown",
      "metadata": {
        "id": "fsL_ZWfP5R8S"
      },
      "source": [
        "### Initialize the architecture for V-IRM game"
      ]
    },
    {
      "cell_type": "code",
      "execution_count": null,
      "metadata": {
        "id": "KBcV-GJT5R8S"
      },
      "outputs": [],
      "source": [
        "model_list = [] # we use same architecture across environments and store it in a list and the last element of the list \n",
        "# corresponds to the architecture for the representation learner\n",
        "for e in range(n_e+1):\n",
        "    if(e<=n_e-1): \n",
        "        model_list.append( keras.Sequential([\n",
        "            keras.layers.Flatten(input_shape=(390,1)),\n",
        "            keras.layers.Dense(390, activation = 'elu',kernel_regularizer=keras.regularizers.l2(0.00125)),\n",
        "            keras.layers.Dropout(0.75),\n",
        "            keras.layers.Dense(390, activation='elu',kernel_regularizer=keras.regularizers.l2(0.00125)),\n",
        "            keras.layers.Dropout(0.75),\n",
        "            keras.layers.Dense(num_classes)\n",
        "        ]))\n",
        "    if(e==n_e):\n",
        "        model_list.append(keras.Sequential([\n",
        "        keras.layers.Flatten(input_shape=(length, width, height)),\n",
        "        keras.layers.Dense(390, activation = 'elu',kernel_regularizer=keras.regularizers.l2(0.00125)),\n",
        "      ]))"
      ]
    },
    {
      "cell_type": "markdown",
      "metadata": {
        "id": "XuumpOvq5R8T"
      },
      "source": [
        "### Select other hyper-parameters for the V-IRM game\n"
      ]
    },
    {
      "cell_type": "code",
      "execution_count": null,
      "metadata": {
        "id": "7G6T2gN05R8T"
      },
      "outputs": [],
      "source": [
        "\n",
        "num_epochs       = 25\n",
        "batch_size       = 256\n",
        "termination_acc  = 0.6\n",
        "warm_start       = 100\n",
        "learning_rate    = 2.5e-4\n"
      ]
    },
    {
      "cell_type": "markdown",
      "metadata": {
        "id": "KaP1dWPt5R8U"
      },
      "source": [
        "### Initialize V-IRM model, fit and evaluate"
      ]
    },
    {
      "cell_type": "code",
      "execution_count": null,
      "metadata": {
        "colab": {
          "base_uri": "https://localhost:8080/"
        },
        "id": "qX0nd2f15R8V",
        "outputId": "32f975bd-442e-4524-b78a-c038670cb111"
      },
      "outputs": [
        {
          "output_type": "stream",
          "name": "stdout",
          "text": [
            "Epoch: 0\n"
          ]
        },
        {
          "output_type": "stream",
          "name": "stderr",
          "text": [
            "/usr/local/lib/python3.7/dist-packages/ipykernel_launcher.py:107: DeprecationWarning: `np.float` is a deprecated alias for the builtin `float`. To silence this warning, use `float` by itself. Doing this will not modify any behavior and is safe. If you specifically wanted the numpy scalar type, use `np.float64` here.\n",
            "Deprecated in NumPy 1.20; for more details and guidance: https://numpy.org/devdocs/release/1.20.0-notes.html#deprecations\n"
          ]
        },
        {
          "output_type": "stream",
          "name": "stdout",
          "text": [
            "Epoch: 1\n",
            "Epoch: 2\n",
            "Epoch: 3\n",
            "Epoch: 4\n",
            "Epoch: 5\n"
          ]
        },
        {
          "output_type": "stream",
          "name": "stderr",
          "text": [
            "/usr/local/lib/python3.7/dist-packages/ipykernel_launcher.py:145: DeprecationWarning: `np.float` is a deprecated alias for the builtin `float`. To silence this warning, use `float` by itself. Doing this will not modify any behavior and is safe. If you specifically wanted the numpy scalar type, use `np.float64` here.\n",
            "Deprecated in NumPy 1.20; for more details and guidance: https://numpy.org/devdocs/release/1.20.0-notes.html#deprecations\n"
          ]
        },
        {
          "output_type": "stream",
          "name": "stdout",
          "text": [
            "0.5920185446739197\n",
            "0.3278888761997223\n"
          ]
        },
        {
          "output_type": "stream",
          "name": "stderr",
          "text": [
            "/usr/local/lib/python3.7/dist-packages/ipykernel_launcher.py:153: DeprecationWarning: `np.float` is a deprecated alias for the builtin `float`. To silence this warning, use `float` by itself. Doing this will not modify any behavior and is safe. If you specifically wanted the numpy scalar type, use `np.float64` here.\n",
            "Deprecated in NumPy 1.20; for more details and guidance: https://numpy.org/devdocs/release/1.20.0-notes.html#deprecations\n"
          ]
        }
      ],
      "source": [
        "# initialize V-IRM model (we pass the hyper-parameters that we chose above)\n",
        "V_game = variable_irm_game_model(model_list, learning_rate, num_epochs, batch_size, termination_acc, warm_start) \n",
        "\n",
        "# fit function runs the training on the data that we created\n",
        "V_game.fit(D.data_tuple_list) \n",
        "\n",
        "# evaluate function runs and evaluates train and test accuracy of the final model\n",
        "V_game.evaluate(D.data_tuple_test) \n",
        "\n",
        "# print train and test accuracy\n",
        "print (V_game.train_acc)\n",
        "print (V_game.test_acc)"
      ]
    },
    {
      "cell_type": "markdown",
      "metadata": {
        "id": "BEcebPo-5R8X"
      },
      "source": [
        "### Selecting termination_acc using training accuracy plot\n",
        "\n",
        "\n",
        "1. Start by setting a very low termination accuracy value say 0.1 and large number of epochs. \n",
        "2. Plot the training accuracy plot to see the range of oscillations; use the minimum value around which oscillation occurs as the threshold \n",
        "\n",
        "3. In the above experiment, we found 0.5 to be the value based on the plot.  "
      ]
    },
    {
      "cell_type": "code",
      "execution_count": null,
      "metadata": {
        "colab": {
          "base_uri": "https://localhost:8080/",
          "height": 296
        },
        "id": "4cnQge2z5R8X",
        "outputId": "9d691d1c-2cfb-4ac1-8dd5-475fabbf07dd"
      },
      "outputs": [
        {
          "output_type": "execute_result",
          "data": {
            "text/plain": [
              "[<matplotlib.lines.Line2D at 0x7fdcdd11f510>]"
            ]
          },
          "metadata": {},
          "execution_count": 12
        },
        {
          "output_type": "display_data",
          "data": {
            "text/plain": [
              "<Figure size 432x288 with 1 Axes>"
            ],
            "image/png": "[encoded data removed]"
          },
          "metadata": {
            "needs_background": "light"
          }
        }
      ],
      "source": [
        "plt.xlabel(\"Training steps\")\n",
        "plt.ylabel(\"Training accuracy\")\n",
        "plt.plot(V_game.train_accuracy_results)"
      ]
    },
    {
      "cell_type": "markdown",
      "metadata": {
        "id": "MzFbrqmt5R8Y"
      },
      "source": [
        "# Fashion MNIST: More environments\n",
        "\n",
        "In the above experiments, we had 2 environments. We now explore the methods with more environments. We set number of environments to be 10. "
      ]
    },
    {
      "cell_type": "code",
      "execution_count": null,
      "metadata": {
        "id": "TwiBwnte5R8Y"
      },
      "outputs": [],
      "source": [
        "## Create data for each environment\n",
        "\n",
        "n_e = 10      # number of environments\n",
        "\n",
        "p_color_list = [0.2, 0.12, 0.19, 0.22, 0.16, 0.18,0.20, 0.14, 0.12, 0.1]  # list of probabilities of switching the final label to obtain the color index\n",
        "p_label_list = [0.25]*n_e                                                 # list of probabilities of switching pre-label\n",
        "\n",
        "D = assemble_data_mnist_fashion()                                         # initialize mnist fashion data object\n",
        "\n",
        "D.create_training_data(n_e, p_color_list, p_label_list)                  # creates the training environments\n",
        "\n",
        "p_label_test = 0.25     # probability of switching pre-label in test environment\n",
        "p_color_test = 0.9      # probability of switching the final label to obtain the color index in test environment\n",
        "\n",
        "D.create_testing_data(p_color_test, p_label_test, n_e)                   # creates the testing environments\n",
        "(num_examples_environment,length, width, height) = D.data_tuple_list[0][0].shape # attributes of the data\n",
        "num_classes = len(np.unique(D.data_tuple_list[0][1])) # number of classes in the data"
      ]
    },
    {
      "cell_type": "markdown",
      "metadata": {
        "id": "Ra-D-utq5R8Z"
      },
      "source": [
        "### Initialize the architecture for F-IRM game \n",
        "\n",
        "In the cell below, for each environment we initialize an architecture. We use the MLP architectue that was described in https://arxiv.org/pdf/2002.04692.pdf . \n",
        "\n",
        "If you decide to choose a new architecture, please take care to ensure that you keep the input shape as is that is length, width, and height (which we obtained above) and output shape as num_classes."
      ]
    },
    {
      "cell_type": "code",
      "execution_count": null,
      "metadata": {
        "id": "9Vhz4f3w5R8f"
      },
      "outputs": [],
      "source": [
        "model_list = [] # we use same architecture across environments and store it in a list\n",
        "for e in range(n_e):\n",
        "    model_list.append(keras.Sequential([\n",
        "            keras.layers.Flatten(input_shape=(length, width,height)),\n",
        "            keras.layers.Dense(390, activation = 'elu'),\n",
        "             keras.layers.Dropout(0.75),\n",
        "            keras.layers.Dense(390, activation='elu'),\n",
        "             keras.layers.Dropout(0.75),\n",
        "            keras.layers.Dense(num_classes)\n",
        "    ]))"
      ]
    },
    {
      "cell_type": "markdown",
      "metadata": {
        "id": "yUY5oSiv5R8f"
      },
      "source": [
        "### Select other hyper-parameters for the F-IRM game"
      ]
    },
    {
      "cell_type": "code",
      "execution_count": null,
      "metadata": {
        "id": "exrgcrEY5R8f"
      },
      "outputs": [],
      "source": [
        "\n",
        "num_epochs       = 25\n",
        "batch_size       = 256\n",
        "termination_acc  = 0.75\n",
        "warm_start       = 10\n",
        "learning_rate    = 2.5e-4"
      ]
    },
    {
      "cell_type": "markdown",
      "metadata": {
        "id": "EFO4o0VT5R8g"
      },
      "source": [
        "### Initialize F-IRM model, fit and evaluate"
      ]
    },
    {
      "cell_type": "code",
      "execution_count": null,
      "metadata": {
        "colab": {
          "base_uri": "https://localhost:8080/"
        },
        "id": "YZlAjJPz5R8g",
        "outputId": "fbc461ed-ffdc-436e-c028-0293c15b86b3"
      },
      "outputs": [
        {
          "metadata": {
            "tags": null
          },
          "name": "stdout",
          "output_type": "stream",
          "text": [
            "Epoch: 0\n"
          ]
        },
        {
          "metadata": {
            "tags": null
          },
          "name": "stderr",
          "output_type": "stream",
          "text": [
            "/usr/local/lib/python3.7/dist-packages/ipykernel_launcher.py:97: DeprecationWarning: `np.float` is a deprecated alias for the builtin `float`. To silence this warning, use `float` by itself. Doing this will not modify any behavior and is safe. If you specifically wanted the numpy scalar type, use `np.float64` here.\n",
            "Deprecated in NumPy 1.20; for more details and guidance: https://numpy.org/devdocs/release/1.20.0-notes.html#deprecations\n"
          ]
        },
        {
          "output_type": "stream",
          "name": "stdout",
          "text": [
            "Epoch: 1\n",
            "Epoch: 2\n",
            "Epoch: 3\n",
            "Epoch: 4\n",
            "Epoch: 5\n",
            "Epoch: 6\n",
            "Epoch: 7\n",
            "Epoch: 8\n",
            "Epoch: 9\n",
            "Epoch: 10\n",
            "Epoch: 11\n"
          ]
        },
        {
          "output_type": "stream",
          "name": "stderr",
          "text": [
            "/usr/local/lib/python3.7/dist-packages/ipykernel_launcher.py:130: DeprecationWarning: `np.float` is a deprecated alias for the builtin `float`. To silence this warning, use `float` by itself. Doing this will not modify any behavior and is safe. If you specifically wanted the numpy scalar type, use `np.float64` here.\n",
            "Deprecated in NumPy 1.20; for more details and guidance: https://numpy.org/devdocs/release/1.20.0-notes.html#deprecations\n"
          ]
        },
        {
          "output_type": "stream",
          "name": "stdout",
          "text": [
            "Training accuracy 0.7358888983726501\n",
            "Testing accuracy 0.3766666650772095\n"
          ]
        },
        {
          "output_type": "stream",
          "name": "stderr",
          "text": [
            "/usr/local/lib/python3.7/dist-packages/ipykernel_launcher.py:136: DeprecationWarning: `np.float` is a deprecated alias for the builtin `float`. To silence this warning, use `float` by itself. Doing this will not modify any behavior and is safe. If you specifically wanted the numpy scalar type, use `np.float64` here.\n",
            "Deprecated in NumPy 1.20; for more details and guidance: https://numpy.org/devdocs/release/1.20.0-notes.html#deprecations\n"
          ]
        }
      ],
      "source": [
        "# initialize F-IRM model (we pass the hyper-parameters that we chose above)\n",
        "F_game = fixed_irm_game_model(model_list, learning_rate, num_epochs, batch_size, termination_acc, warm_start) \n",
        "\n",
        "# fit function runs the training on the data that we created\n",
        "F_game.fit(D.data_tuple_list)\n",
        "\n",
        "# evaluate function runs and evaluates train and test accuracy of the final model\n",
        "F_game.evaluate(D.data_tuple_test) \n",
        "\n",
        "# print train and test accuracy\n",
        "print (\"Training accuracy \" + str(F_game.train_acc)) \n",
        "print (\"Testing accuracy \" + str(F_game.test_acc))"
      ]
    },
    {
      "cell_type": "markdown",
      "metadata": {
        "id": "9AlGxLOl5R8h"
      },
      "source": [
        "### Selecting termination_acc using training accuracy plot\n",
        "\n",
        "\n",
        "1. Start by setting a very low termination accuracy value say 0.1 and large number of epochs. \n",
        "2. Plot the training accuracy plot to see the range of oscillations; use the minimum value around which oscillation occurs as the threshold \n",
        "\n",
        "3. In the above experiment, we found 0.75 to be the value based on the plot."
      ]
    },
    {
      "cell_type": "code",
      "execution_count": null,
      "metadata": {
        "colab": {
          "base_uri": "https://localhost:8080/",
          "height": 72
        },
        "id": "H7LpvP3C5R8i",
        "outputId": "a3f4bbe3-c637-497d-8cff-ad3e5dd1bf46"
      },
      "outputs": [
        {
          "output_type": "execute_result",
          "data": {
            "text/plain": [
              "[<matplotlib.lines.Line2D at 0x7f2632257810>]"
            ]
          },
          "metadata": {},
          "execution_count": 12
        },
        {
          "output_type": "display_data",
          "data": {
            "text/plain": [
              "<Figure size 432x288 with 1 Axes>"
            ],
            "image/png": "[encoded data removed]"
          },
          "metadata": {
            "needs_background": "light"
          }
        }
      ],
      "source": [
        "plt.xlabel(\"Training steps\")\n",
        "plt.ylabel(\"Training accuracy\")\n",
        "plt.plot(F_game.train_accuracy_results)"
      ]
    },
    {
      "cell_type": "markdown",
      "metadata": {
        "id": "bFc92Qzu5R8i"
      },
      "source": [
        "### Initialize the architecture for V-IRM game\n",
        "\n",
        "In the cell below, for each environment we initialize an architecture. We use the MLP architectue that was described in https://arxiv.org/pdf/2002.04692.pdf . \n",
        "\n",
        "If you decide to choose a new architecture, please take care to ensure that you keep the input shape as is that is length, width, and height (which we obtained above) and output shape as num_classes."
      ]
    },
    {
      "cell_type": "code",
      "execution_count": null,
      "metadata": {
        "id": "kel2xoCu5R8j"
      },
      "outputs": [],
      "source": [
        "model_list = [] # we use same architecture across environments and store it in a list and the last element of the list \n",
        "# corresponds to the architecture for the representation learner\n",
        "for e in range(n_e+1):\n",
        "    if(e<=n_e-1): \n",
        "        model_list.append( keras.Sequential([\n",
        "            keras.layers.Flatten(input_shape=(390,1)),\n",
        "            keras.layers.Dense(390, activation = 'elu'),\n",
        "            keras.layers.Dropout(0.75),\n",
        "            keras.layers.Dense(390, activation='elu'),\n",
        "            keras.layers.Dropout(0.75),\n",
        "            keras.layers.Dense(num_classes)\n",
        "        ]))\n",
        "    if(e==n_e):\n",
        "        model_list.append(keras.Sequential([\n",
        "        keras.layers.Flatten(input_shape=(length, width,height)),\n",
        "        keras.layers.Dense(390, activation = 'elu'),\n",
        "      ]))"
      ]
    },
    {
      "cell_type": "markdown",
      "metadata": {
        "id": "p7TXuOZJ5R8j"
      },
      "source": [
        "### Select other hyper-parameters for the V-IRM game\n"
      ]
    },
    {
      "cell_type": "code",
      "execution_count": null,
      "metadata": {
        "id": "ZbKFXDrc5R8k"
      },
      "outputs": [],
      "source": [
        "num_epochs       = 25\n",
        "batch_size       = 64\n",
        "termination_acc  = 0.75\n",
        "warm_start       = 25\n",
        "learning_rate    = 2.5e-4"
      ]
    },
    {
      "cell_type": "markdown",
      "metadata": {
        "id": "MaziWAu_5R8k"
      },
      "source": [
        "### Initialize V-IRM model, fit and evaluate"
      ]
    },
    {
      "cell_type": "code",
      "execution_count": null,
      "metadata": {
        "colab": {
          "base_uri": "https://localhost:8080/"
        },
        "id": "sGE55dVt5R8k",
        "outputId": "b6f664c6-fb6e-44b5-c1ae-8d523f620a2e"
      },
      "outputs": [
        {
          "output_type": "stream",
          "name": "stdout",
          "text": [
            "Epoch: 0\n"
          ]
        },
        {
          "output_type": "stream",
          "name": "stderr",
          "text": [
            "/usr/local/lib/python3.7/dist-packages/ipykernel_launcher.py:107: DeprecationWarning: `np.float` is a deprecated alias for the builtin `float`. To silence this warning, use `float` by itself. Doing this will not modify any behavior and is safe. If you specifically wanted the numpy scalar type, use `np.float64` here.\n",
            "Deprecated in NumPy 1.20; for more details and guidance: https://numpy.org/devdocs/release/1.20.0-notes.html#deprecations\n"
          ]
        },
        {
          "output_type": "stream",
          "name": "stdout",
          "text": [
            "Epoch: 1\n",
            "Epoch: 2\n",
            "Epoch: 3\n",
            "Epoch: 4\n",
            "Epoch: 5\n",
            "Epoch: 6\n",
            "Epoch: 7\n",
            "Epoch: 8\n",
            "Epoch: 9\n"
          ]
        },
        {
          "output_type": "stream",
          "name": "stderr",
          "text": [
            "/usr/local/lib/python3.7/dist-packages/ipykernel_launcher.py:145: DeprecationWarning: `np.float` is a deprecated alias for the builtin `float`. To silence this warning, use `float` by itself. Doing this will not modify any behavior and is safe. If you specifically wanted the numpy scalar type, use `np.float64` here.\n",
            "Deprecated in NumPy 1.20; for more details and guidance: https://numpy.org/devdocs/release/1.20.0-notes.html#deprecations\n"
          ]
        },
        {
          "output_type": "stream",
          "name": "stdout",
          "text": [
            "0.7410740852355957\n",
            "0.6525555849075317\n"
          ]
        },
        {
          "output_type": "stream",
          "name": "stderr",
          "text": [
            "/usr/local/lib/python3.7/dist-packages/ipykernel_launcher.py:153: DeprecationWarning: `np.float` is a deprecated alias for the builtin `float`. To silence this warning, use `float` by itself. Doing this will not modify any behavior and is safe. If you specifically wanted the numpy scalar type, use `np.float64` here.\n",
            "Deprecated in NumPy 1.20; for more details and guidance: https://numpy.org/devdocs/release/1.20.0-notes.html#deprecations\n"
          ]
        }
      ],
      "source": [
        "# initialize V-IRM model (we pass the hyper-parameters that we chose above)\n",
        "V_game = variable_irm_game_model(model_list, learning_rate, num_epochs, batch_size, termination_acc, warm_start) \n",
        "\n",
        "# fit function runs the training on the data that we created\n",
        "V_game.fit(D.data_tuple_list) \n",
        "\n",
        "# evaluate function runs and evaluates train and test accuracy of the final model\n",
        "V_game.evaluate(D.data_tuple_test) \n",
        "\n",
        "# print train and test accuracy\n",
        "print (V_game.train_acc)\n",
        "print (V_game.test_acc)"
      ]
    },
    {
      "cell_type": "markdown",
      "metadata": {
        "id": "I3hQJDfh5R8l"
      },
      "source": [
        "### Selecting termination_acc using training accuracy plot\n",
        "\n",
        "\n",
        "1. Start by setting a very low termination accuracy value say 0.1 and large number of epochs. \n",
        "2. Plot the training accuracy plot to see the range of oscillations; use the minimum value around which oscillation occurs as the threshold \n",
        "\n",
        "3. In the above experiment, we found 0.75 to be the value based on the plot."
      ]
    },
    {
      "cell_type": "code",
      "execution_count": null,
      "metadata": {
        "colab": {
          "base_uri": "https://localhost:8080/",
          "height": 296
        },
        "id": "I_IoE4no5R8m",
        "outputId": "72ccbde9-93fe-4d5a-c1c6-979866cf2a5c"
      },
      "outputs": [
        {
          "output_type": "execute_result",
          "data": {
            "text/plain": [
              "[<matplotlib.lines.Line2D at 0x7fdcdca5b810>]"
            ]
          },
          "metadata": {},
          "execution_count": 17
        },
        {
          "output_type": "display_data",
          "data": {
            "text/plain": [
              "<Figure size 432x288 with 1 Axes>"
            ],
            "image/png": "[encoded data removed]"
          },
          "metadata": {
            "needs_background": "light"
          }
        }
      ],
      "source": [
        "plt.xlabel(\"Training steps\")\n",
        "plt.ylabel(\"Training accuracy\")\n",
        "plt.plot(V_game.train_accuracy_results)"
      ]
    },
    {
      "cell_type": "markdown",
      "metadata": {
        "id": "iGeR4Zxy5R8o"
      },
      "source": [
        "# Fashion MNIST: a simple CNN architecture"
      ]
    },
    {
      "cell_type": "code",
      "execution_count": null,
      "metadata": {
        "id": "ODS6Q6A65R8p",
        "colab": {
          "base_uri": "https://localhost:8080/"
        },
        "outputId": "766ee819-10db-4cab-a183-6ec7cc166722"
      },
      "outputs": [
        {
          "output_type": "stream",
          "name": "stdout",
          "text": [
            "Downloading data from https://storage.googleapis.com/tensorflow/tf-keras-datasets/train-labels-idx1-ubyte.gz\n",
            "32768/29515 [=================================] - 0s 0us/step\n",
            "40960/29515 [=========================================] - 0s 0us/step\n",
            "Downloading data from https://storage.googleapis.com/tensorflow/tf-keras-datasets/train-images-idx3-ubyte.gz\n",
            "26427392/26421880 [==============================] - 0s 0us/step\n",
            "26435584/26421880 [==============================] - 0s 0us/step\n",
            "Downloading data from https://storage.googleapis.com/tensorflow/tf-keras-datasets/t10k-labels-idx1-ubyte.gz\n",
            "16384/5148 [===============================================================================================] - 0s 0us/step\n",
            "Downloading data from https://storage.googleapis.com/tensorflow/tf-keras-datasets/t10k-images-idx3-ubyte.gz\n",
            "4423680/4422102 [==============================] - 0s 0us/step\n",
            "4431872/4422102 [==============================] - 0s 0us/step\n"
          ]
        }
      ],
      "source": [
        "## Create data for each environment\n",
        "\n",
        "n_e = 2\n",
        "p_color_list = [0.2, 0.1]\n",
        "p_label_list = [0.25]*n_e\n",
        "D = assemble_data_mnist_fashion()  ## assemble_data_mnist() initializes an object whose attributes contain the information about mnist digits data that we create\n",
        "## this can be replaced with assemble_data_fashion_mnist() for fashion mnist data\n",
        "D.create_training_data(n_e, p_color_list, p_label_list) ## sets up the training environments\n",
        "p_label_test = 0.25\n",
        "p_color_test = 0.9\n",
        "D.create_testing_data(p_color_test, p_label_test, n_e)  ## sets up the testing environments\n",
        "(num_examples_environment,length, width, height) = D.data_tuple_list[0][0].shape ## obtain attributes of the data\n",
        "num_classes = len(np.unique(D.data_tuple_list[0][1])) # number of classes in the data"
      ]
    },
    {
      "cell_type": "markdown",
      "metadata": {
        "id": "hHN3V1jT5R8q"
      },
      "source": [
        "### Initialize the architecture for F-IRM game \n",
        "\n",
        "In the cell below, for each environment we initialize an architecture. We use a very simple CNN architectue for illustrative purposes. \n",
        "\n",
        "If you decide to choose a new architecture, please take care to ensure that you keep the input shape as is that is length, width, and height (which we obtained above) and output shape as num_classes."
      ]
    },
    {
      "cell_type": "code",
      "execution_count": null,
      "metadata": {
        "id": "8eiCM8ys5R8q"
      },
      "outputs": [],
      "source": [
        "\n",
        "model_list = [] # we use same architecture across environments and store it in a list\n",
        "for e in range(n_e):\n",
        "    model_list.append(keras.Sequential([\n",
        "           keras.layers.Conv2D(filters=64, kernel_size=2, padding='same', activation='elu', input_shape=(length,width,height)),\n",
        "                keras.layers.Flatten(),\n",
        "            keras.layers.Dense(390, activation = 'elu'),\n",
        "             keras.layers.Dropout(0.75),\n",
        "            keras.layers.Dense(390, activation='elu'),\n",
        "             keras.layers.Dropout(0.75),\n",
        "            keras.layers.Dense(num_classes)\n",
        "    ]))"
      ]
    },
    {
      "cell_type": "markdown",
      "metadata": {
        "id": "sX7W7xYs5R8q"
      },
      "source": [
        "### Select other hyper-parameters for the F-IRM game"
      ]
    },
    {
      "cell_type": "code",
      "execution_count": null,
      "metadata": {
        "id": "mlMZ131-5R8r"
      },
      "outputs": [],
      "source": [
        "\n",
        "num_epochs       = 25\n",
        "batch_size       = 64\n",
        "termination_acc  = 0.65\n",
        "warm_start       = 10\n",
        "learning_rate    = 2.5e-4"
      ]
    },
    {
      "cell_type": "markdown",
      "metadata": {
        "id": "3Ysm5SW45R8s"
      },
      "source": [
        "### Initialize F-IRM model, fit and evaluate"
      ]
    },
    {
      "cell_type": "code",
      "execution_count": null,
      "metadata": {
        "id": "iLpzOToA5R8s"
      },
      "outputs": [],
      "source": [
        "# initialize F-IRM model (we pass the hyper-parameters that we chose above)\n",
        "F_game = fixed_irm_game_model(model_list, learning_rate, num_epochs, batch_size, termination_acc, warm_start) \n",
        "\n",
        "# fit function runs the training on the data that we created\n",
        "F_game.fit(D.data_tuple_list)\n",
        "\n",
        "# evaluate function runs and evaluates train and test accuracy of the final model\n",
        "F_game.evaluate(D.data_tuple_test) \n",
        "\n",
        "# print train and test accuracy\n",
        "print (\"Training accuracy \" + str(F_game.train_acc)) \n",
        "print (\"Testing accuracy \" + str(F_game.test_acc))"
      ]
    },
    {
      "cell_type": "markdown",
      "metadata": {
        "id": "sxiwsDg-5R8s"
      },
      "source": [
        "### Selecting termination_acc using training accuracy plot"
      ]
    },
    {
      "cell_type": "code",
      "execution_count": null,
      "metadata": {
        "id": "3Sh9tW935R8s"
      },
      "outputs": [],
      "source": [
        "plt.xlabel(\"Training steps\")\n",
        "plt.ylabel(\"Training accuracy\")\n",
        "plt.plot(F_game.train_accuracy_results)"
      ]
    },
    {
      "cell_type": "markdown",
      "metadata": {
        "id": "Ibx4vYLS5R8t"
      },
      "source": [
        "# IRM (Arjovsky et.al.)\n",
        "\n",
        "In the previous cells, we compared F-IRM and V-IRM approach for 2 environments, multiple environments, and also illustrated the flexibility of using CNN vs MLP. In cells to follow, we compare benchmarks starting with the most important https://arxiv.org/pdf/1907.02893.pdf"
      ]
    },
    {
      "cell_type": "markdown",
      "metadata": {
        "id": "8aBxbgyj5R8t"
      },
      "source": [
        "### Fashion MNIST: 2 environments"
      ]
    },
    {
      "cell_type": "code",
      "execution_count": null,
      "metadata": {
        "id": "skJUGz9a5R8t"
      },
      "outputs": [],
      "source": [
        "# Create data for each environment\n",
        "\n",
        "n_e = 2    # number of environments\n",
        "\n",
        "p_color_list = [0.2, 0.1]   # list of probabilities of switching the final label to obtain the color index\n",
        "p_label_list = [0.25]*n_e   # list of probabilities of switching pre-label\n",
        "D = assemble_data_mnist_fashion()  # initialize mnist fashion data object\n",
        "\n",
        "D.create_training_data(n_e, p_color_list, p_label_list) # create the training environments\n",
        "p_label_test = 0.25     # probability of switching pre-label in test environment\n",
        "p_color_test = 0.9      # probability of switching the final label to obtain the color index in test environment\n",
        "\n",
        "D.create_testing_data(p_color_test, p_label_test, n_e)  # create the testing environments\n",
        "(num_examples_environment,length, width, height) = D.data_tuple_list[0][0].shape # attributes of the data\n",
        "num_classes = len(np.unique(D.data_tuple_list[0][1])) # number of classes in the data"
      ]
    },
    {
      "cell_type": "markdown",
      "metadata": {
        "id": "V8HdCsvB5R8u"
      },
      "source": [
        "### Initialize the architecture for IRM\n",
        "\n",
        "The architecture is same as one described here https://github.com/facebookresearch/InvariantRiskMinimization"
      ]
    },
    {
      "cell_type": "code",
      "execution_count": null,
      "metadata": {
        "id": "XoJcuVg05R8u"
      },
      "outputs": [],
      "source": [
        "model_irm = keras.Sequential([\n",
        "                keras.layers.Flatten(input_shape=(length,width,height)),\n",
        "                keras.layers.Dense(390, activation = 'relu',kernel_regularizer=keras.regularizers.l2(0.0011)),\n",
        "                keras.layers.Dense(390, activation='relu',kernel_regularizer=keras.regularizers.l2(0.0011)),\n",
        "                keras.layers.Dense(num_classes)\n",
        "        ])"
      ]
    },
    {
      "cell_type": "markdown",
      "metadata": {
        "id": "q8kyFIkp5R8u"
      },
      "source": [
        "### Select other hyper-parameters for the IRM model"
      ]
    },
    {
      "cell_type": "code",
      "execution_count": null,
      "metadata": {
        "id": "RETASkyn5R8v"
      },
      "outputs": [],
      "source": [
        "batch_size       = 256\n",
        "steps_max        = 500\n",
        "steps_threshold  = 190  ## threshold after which gamma_new is used\n",
        "learning_rate    = 4.89e-4\n",
        "gamma_new        = 91257\n"
      ]
    },
    {
      "cell_type": "markdown",
      "metadata": {
        "id": "FRkMCRrR5R8v"
      },
      "source": [
        "### IRM model initialize, fit, and evaluate"
      ]
    },
    {
      "cell_type": "code",
      "execution_count": null,
      "metadata": {
        "id": "ATyKKc4j5R8v",
        "colab": {
          "base_uri": "https://localhost:8080/"
        },
        "outputId": "686467d9-e611-4a85-ff1b-05be97073b64"
      },
      "outputs": [
        {
          "output_type": "stream",
          "name": "stderr",
          "text": [
            "/usr/local/lib/python3.7/dist-packages/ipykernel_launcher.py:33: DeprecationWarning: `np.float` is a deprecated alias for the builtin `float`. To silence this warning, use `float` by itself. Doing this will not modify any behavior and is safe. If you specifically wanted the numpy scalar type, use `np.float64` here.\n",
            "Deprecated in NumPy 1.20; for more details and guidance: https://numpy.org/devdocs/release/1.20.0-notes.html#deprecations\n",
            "/usr/local/lib/python3.7/dist-packages/ipykernel_launcher.py:109: DeprecationWarning: `np.float` is a deprecated alias for the builtin `float`. To silence this warning, use `float` by itself. Doing this will not modify any behavior and is safe. If you specifically wanted the numpy scalar type, use `np.float64` here.\n",
            "Deprecated in NumPy 1.20; for more details and guidance: https://numpy.org/devdocs/release/1.20.0-notes.html#deprecations\n",
            "/usr/local/lib/python3.7/dist-packages/ipykernel_launcher.py:124: DeprecationWarning: `np.float` is a deprecated alias for the builtin `float`. To silence this warning, use `float` by itself. Doing this will not modify any behavior and is safe. If you specifically wanted the numpy scalar type, use `np.float64` here.\n",
            "Deprecated in NumPy 1.20; for more details and guidance: https://numpy.org/devdocs/release/1.20.0-notes.html#deprecations\n"
          ]
        },
        {
          "output_type": "stream",
          "name": "stdout",
          "text": [
            "Training accuracy:0.46618518233299255\n",
            "Testing accuracy:0.6352221965789795\n"
          ]
        },
        {
          "output_type": "stream",
          "name": "stderr",
          "text": [
            "/usr/local/lib/python3.7/dist-packages/ipykernel_launcher.py:127: DeprecationWarning: `np.float` is a deprecated alias for the builtin `float`. To silence this warning, use `float` by itself. Doing this will not modify any behavior and is safe. If you specifically wanted the numpy scalar type, use `np.float64` here.\n",
            "Deprecated in NumPy 1.20; for more details and guidance: https://numpy.org/devdocs/release/1.20.0-notes.html#deprecations\n"
          ]
        }
      ],
      "source": [
        "irm_model1 = irm_model(model_irm, learning_rate, batch_size, steps_max, steps_threshold, gamma_new)\n",
        "irm_model1.fit(D.data_tuple_list)\n",
        "irm_model1.evaluate(D.data_tuple_test)\n",
        "print (\"Training accuracy:\" + str(irm_model1.train_acc))\n",
        "print (\"Testing accuracy:\" + str(irm_model1.test_acc))"
      ]
    },
    {
      "cell_type": "markdown",
      "metadata": {
        "id": "AMguKT6i5R8w"
      },
      "source": [
        "### Fashion MNIST: 10 environments"
      ]
    },
    {
      "cell_type": "code",
      "execution_count": null,
      "metadata": {
        "id": "sZOMYHnY5R8w"
      },
      "outputs": [],
      "source": [
        "## Create data for each environment\n",
        "\n",
        "n_e = 10      # number of environments\n",
        "\n",
        "p_color_list = [0.2, 0.12, 0.19, 0.22, 0.16, 0.18,0.20, 0.14, 0.12, 0.1]  # list of probabilities of switching the final label to obtain the color index\n",
        "p_label_list = [0.25]*n_e                                                 # list of probabilities of switching pre-label\n",
        "\n",
        "D = assemble_data_mnist_fashion()                                         # initialize mnist fashion data object\n",
        "\n",
        "D.create_training_data(n_e, p_color_list, p_label_list)                  # creates the training environments\n",
        "\n",
        "p_label_test = 0.25     # probability of switching pre-label in test environment\n",
        "p_color_test = 0.9      # probability of switching the final label to obtain the color index in test environment\n",
        "\n",
        "D.create_testing_data(p_color_test, p_label_test, n_e)                   # creates the testing environments\n",
        "(num_examples_environment,length, width, height) = D.data_tuple_list[0][0].shape # attributes of the data\n",
        "num_classes = len(np.unique(D.data_tuple_list[0][1])) # number of classes in the data"
      ]
    },
    {
      "cell_type": "markdown",
      "metadata": {
        "id": "lK4K_EOI5R8x"
      },
      "source": [
        "### Initialize the architecture for IRM"
      ]
    },
    {
      "cell_type": "code",
      "execution_count": null,
      "metadata": {
        "id": "mjQBgYGq5R8x"
      },
      "outputs": [],
      "source": [
        "model_irm = keras.Sequential([\n",
        "                keras.layers.Flatten(input_shape=(length,width,height)),\n",
        "                keras.layers.Dense(390, activation = 'relu',kernel_regularizer=keras.regularizers.l2(0.0011)),\n",
        "                keras.layers.Dense(390, activation='relu',kernel_regularizer=keras.regularizers.l2(0.0011)),\n",
        "                keras.layers.Dense(num_classes)\n",
        "        ])"
      ]
    },
    {
      "cell_type": "markdown",
      "metadata": {
        "id": "UFJZdeLd5R8y"
      },
      "source": [
        "### Select other hyper-parameters for the IRM model"
      ]
    },
    {
      "cell_type": "code",
      "execution_count": null,
      "metadata": {
        "id": "2iQahdXy5R8y"
      },
      "outputs": [],
      "source": [
        "batch_size       = 256\n",
        "steps_max        = 500\n",
        "steps_threshold  = 190  ## threshold after which gamma_new is used\n",
        "learning_rate    = 2.5e-4\n",
        "gamma_new        = 91257\n"
      ]
    },
    {
      "cell_type": "markdown",
      "metadata": {
        "id": "kkbnTNF65R8y"
      },
      "source": [
        "### Initialize IRM model, fit and evaluate"
      ]
    },
    {
      "cell_type": "code",
      "execution_count": null,
      "metadata": {
        "id": "LagIrYc35R8z",
        "colab": {
          "base_uri": "https://localhost:8080/"
        },
        "outputId": "424a7f55-c463-4278-8617-abffdd168a1a"
      },
      "outputs": [
        {
          "output_type": "stream",
          "name": "stderr",
          "text": [
            "/usr/local/lib/python3.7/dist-packages/ipykernel_launcher.py:33: DeprecationWarning: `np.float` is a deprecated alias for the builtin `float`. To silence this warning, use `float` by itself. Doing this will not modify any behavior and is safe. If you specifically wanted the numpy scalar type, use `np.float64` here.\n",
            "Deprecated in NumPy 1.20; for more details and guidance: https://numpy.org/devdocs/release/1.20.0-notes.html#deprecations\n",
            "/usr/local/lib/python3.7/dist-packages/ipykernel_launcher.py:109: DeprecationWarning: `np.float` is a deprecated alias for the builtin `float`. To silence this warning, use `float` by itself. Doing this will not modify any behavior and is safe. If you specifically wanted the numpy scalar type, use `np.float64` here.\n",
            "Deprecated in NumPy 1.20; for more details and guidance: https://numpy.org/devdocs/release/1.20.0-notes.html#deprecations\n",
            "/usr/local/lib/python3.7/dist-packages/ipykernel_launcher.py:124: DeprecationWarning: `np.float` is a deprecated alias for the builtin `float`. To silence this warning, use `float` by itself. Doing this will not modify any behavior and is safe. If you specifically wanted the numpy scalar type, use `np.float64` here.\n",
            "Deprecated in NumPy 1.20; for more details and guidance: https://numpy.org/devdocs/release/1.20.0-notes.html#deprecations\n"
          ]
        },
        {
          "output_type": "stream",
          "name": "stdout",
          "text": [
            "Training accuracy:0.5077592730522156\n",
            "Testing accuracy:0.45100000500679016\n"
          ]
        },
        {
          "output_type": "stream",
          "name": "stderr",
          "text": [
            "/usr/local/lib/python3.7/dist-packages/ipykernel_launcher.py:127: DeprecationWarning: `np.float` is a deprecated alias for the builtin `float`. To silence this warning, use `float` by itself. Doing this will not modify any behavior and is safe. If you specifically wanted the numpy scalar type, use `np.float64` here.\n",
            "Deprecated in NumPy 1.20; for more details and guidance: https://numpy.org/devdocs/release/1.20.0-notes.html#deprecations\n"
          ]
        }
      ],
      "source": [
        "irm_model1 = irm_model(model_irm, learning_rate, batch_size, steps_max, steps_threshold, gamma_new)\n",
        "irm_model1.fit(D.data_tuple_list)\n",
        "irm_model1.evaluate(D.data_tuple_test)\n",
        "print (\"Training accuracy:\" + str(irm_model1.train_acc))\n",
        "print (\"Testing accuracy:\" + str(irm_model1.test_acc))"
      ]
    },
    {
      "cell_type": "markdown",
      "metadata": {
        "id": "YnBl0b0R5R80"
      },
      "source": [
        "#Standard ERM \n",
        "### 2 environments"
      ]
    },
    {
      "cell_type": "code",
      "execution_count": null,
      "metadata": {
        "id": "uOnHkqt05R80"
      },
      "outputs": [],
      "source": [
        "## Create data for each environment\n",
        "\n",
        "n_e = 2\n",
        "p_color_list = [0.2, 0.1]\n",
        "# p_color_list = [0.2, 0.12, 0.19, 0.22, 0.16, 0.18,0.20, 0.14, 0.12, 0.1]\n",
        "p_label_list = [0.25]*n_e\n",
        "D = assemble_data_mnist_fashion()  ## assemble_data_mnist() initializes an object whose attributes contain the information about mnist digits data that we create\n",
        "## this can be replaced with assemble_data_fashion_mnist() for fashion mnist data\n",
        "D.create_training_data(n_e, p_color_list, p_label_list) ## sets up the training environments\n",
        "p_label_test = 0.25\n",
        "p_color_test = 0.9\n",
        "D.create_testing_data(p_color_test, p_label_test, n_e)  ## sets up the testing environments\n",
        "(num_examples_environment,length, width, height) = D.data_tuple_list[0][0].shape ## obtain attributes of the data\n",
        "num_classes = len(np.unique(D.data_tuple_list[0][1])) # number of classes in the data"
      ]
    },
    {
      "cell_type": "code",
      "execution_count": null,
      "metadata": {
        "id": "8jf13NER5R80"
      },
      "outputs": [],
      "source": [
        "model_erm = keras.Sequential([\n",
        "        keras.layers.Flatten(input_shape=(28, 28,2)),\n",
        "        keras.layers.Dense(390, activation = 'elu',kernel_regularizer=keras.regularizers.l2(0.00125)),\n",
        "        keras.layers.Dropout(0.75),\n",
        "        keras.layers.Dense(390, activation='elu',kernel_regularizer=keras.regularizers.l2(0.00125)),\n",
        "        keras.layers.Dropout(0.75),\n",
        "        #     keras.layers.Dense(128, activation='relu'),\n",
        "        keras.layers.Dense(2, activation='softmax')\n",
        "    ])"
      ]
    },
    {
      "cell_type": "code",
      "execution_count": null,
      "metadata": {
        "id": "Dm8h-sMk5R81",
        "colab": {
          "base_uri": "https://localhost:8080/"
        },
        "outputId": "0ff2d8a1-2ef9-446f-f456-2b48e96e255d"
      },
      "outputs": [
        {
          "output_type": "stream",
          "name": "stdout",
          "text": [
            "Epoch 1/10\n",
            "211/211 [==============================] - 8s 35ms/step - loss: 1.2018 - accuracy: 0.8080\n",
            "Epoch 2/10\n",
            "211/211 [==============================] - 6s 30ms/step - loss: 0.5740 - accuracy: 0.8253\n",
            "Epoch 3/10\n",
            "211/211 [==============================] - 7s 32ms/step - loss: 0.4814 - accuracy: 0.8244\n",
            "Epoch 4/10\n",
            "211/211 [==============================] - 7s 33ms/step - loss: 0.4652 - accuracy: 0.8256\n",
            "Epoch 5/10\n",
            "211/211 [==============================] - 7s 31ms/step - loss: 0.4688 - accuracy: 0.8278\n",
            "Epoch 6/10\n",
            "211/211 [==============================] - 6s 30ms/step - loss: 0.4798 - accuracy: 0.8249\n",
            "Epoch 7/10\n",
            "211/211 [==============================] - 7s 32ms/step - loss: 0.4883 - accuracy: 0.8243\n",
            "Epoch 8/10\n",
            "211/211 [==============================] - 7s 31ms/step - loss: 0.5003 - accuracy: 0.8243\n",
            "Epoch 9/10\n",
            "211/211 [==============================] - 7s 33ms/step - loss: 0.5039 - accuracy: 0.8249\n",
            "Epoch 10/10\n",
            "211/211 [==============================] - 7s 31ms/step - loss: 0.4990 - accuracy: 0.8273\n"
          ]
        },
        {
          "output_type": "stream",
          "name": "stderr",
          "text": [
            "/usr/local/lib/python3.7/dist-packages/ipykernel_launcher.py:58: DeprecationWarning: `np.float` is a deprecated alias for the builtin `float`. To silence this warning, use `float` by itself. Doing this will not modify any behavior and is safe. If you specifically wanted the numpy scalar type, use `np.float64` here.\n",
            "Deprecated in NumPy 1.20; for more details and guidance: https://numpy.org/devdocs/release/1.20.0-notes.html#deprecations\n"
          ]
        },
        {
          "output_type": "stream",
          "name": "stdout",
          "text": [
            "Training accuracy:0.8404629826545715\n",
            "Testing accuracy:0.1492222249507904\n"
          ]
        },
        {
          "output_type": "stream",
          "name": "stderr",
          "text": [
            "/usr/local/lib/python3.7/dist-packages/ipykernel_launcher.py:62: DeprecationWarning: `np.float` is a deprecated alias for the builtin `float`. To silence this warning, use `float` by itself. Doing this will not modify any behavior and is safe. If you specifically wanted the numpy scalar type, use `np.float64` here.\n",
            "Deprecated in NumPy 1.20; for more details and guidance: https://numpy.org/devdocs/release/1.20.0-notes.html#deprecations\n"
          ]
        }
      ],
      "source": [
        "num_epochs = 10\n",
        "batch_size = 256\n",
        "learning_rate = 2.5e-3\n",
        "erm_model1 = standard_erm_model(model_erm, num_epochs, batch_size, learning_rate)\n",
        "erm_model1.fit(D.data_tuple_list)\n",
        "erm_model1.evaluate(D.data_tuple_test)\n",
        "print (\"Training accuracy:\" + str(erm_model1.train_acc))\n",
        "print (\"Testing accuracy:\" + str(erm_model1.test_acc))"
      ]
    }
  ],
  "metadata": {
    "kernelspec": {
      "display_name": "Python 3",
      "language": "python",
      "name": "python3"
    },
    "language_info": {
      "codemirror_mode": {
        "name": "ipython",
        "version": 3
      },
      "file_extension": ".py",
      "mimetype": "text/x-python",
      "name": "python",
      "nbconvert_exporter": "python",
      "pygments_lexer": "ipython3",
      "version": "3.7.6"
    },
    "colab": {
      "name": "IRM_games_jmtd_illustration_notebook.ipynb",
      "provenance": [],
      "collapsed_sections": [
        "vYOczE-t5R74",
        "X4MVUg7kAXRM",
        "6ofOS5eG-r98",
        "Xf4VwqG-5R8B",
        "iH1OLQsh5R8D",
        "mfERTqq55R8F",
        "t9xv6SDm5R8H",
        "zwJmBOWD5R8J",
        "1RkNtEX75R8L",
        "66F0i1eE5R8M",
        "enS02pF65R8O",
        "HN9Rc87G5R8P",
        "pYqqesuk5R8P",
        "uPyudPEV5R8Q",
        "9gxQf7jM5R8R",
        "fsL_ZWfP5R8S",
        "XuumpOvq5R8T",
        "KaP1dWPt5R8U",
        "BEcebPo-5R8X",
        "Ra-D-utq5R8Z",
        "yUY5oSiv5R8f",
        "9AlGxLOl5R8h",
        "I3hQJDfh5R8l",
        "iGeR4Zxy5R8o",
        "hHN3V1jT5R8q",
        "sX7W7xYs5R8q",
        "3Ysm5SW45R8s",
        "Ibx4vYLS5R8t",
        "8aBxbgyj5R8t",
        "V8HdCsvB5R8u",
        "q8kyFIkp5R8u",
        "FRkMCRrR5R8v",
        "AMguKT6i5R8w",
        "lK4K_EOI5R8x",
        "UFJZdeLd5R8y",
        "kkbnTNF65R8y",
        "YnBl0b0R5R80"
      ]
    }
  },
  "nbformat": 4,
  "nbformat_minor": 0
}